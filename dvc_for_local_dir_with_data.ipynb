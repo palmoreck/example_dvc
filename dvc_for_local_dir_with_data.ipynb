{
 "cells": [
  {
   "cell_type": "markdown",
   "metadata": {},
   "source": [
    "Execute this notebook in server where sipecam data is located, install dvc and create some test repos:\n",
    "\n",
    "* For example 1: dvc_sipecam\n",
    "\n",
    "* For example 2: dvc_sipecam_2"
   ]
  },
  {
   "cell_type": "markdown",
   "metadata": {},
   "source": [
    "# Example 1: `directory` with data in some path of filesystem. Recursively `dvc add`"
   ]
  },
  {
   "cell_type": "markdown",
   "metadata": {},
   "source": [
    "Create "
   ]
  },
  {
   "cell_type": "code",
   "execution_count": 1,
   "metadata": {},
   "outputs": [
    {
     "name": "stderr",
     "output_type": "stream",
     "text": [
      "Cloning into 'dvc_sipecam'...\n"
     ]
    }
   ],
   "source": [
    "%%bash\n",
    "cd ~\n",
    "git clone git@github.com:palmoreck/dvc_sipecam.git"
   ]
  },
  {
   "cell_type": "code",
   "execution_count": 2,
   "metadata": {},
   "outputs": [
    {
     "name": "stdout",
     "output_type": "stream",
     "text": [
      "Initialized DVC repository.\n",
      "\n",
      "You can now commit the changes to git.\n",
      "\n",
      "+---------------------------------------------------------------------+\n",
      "|                                                                     |\n",
      "|        DVC has enabled anonymous aggregate usage analytics.         |\n",
      "|     Read the analytics documentation (and how to opt-out) here:     |\n",
      "|             <https://dvc.org/doc/user-guide/analytics>              |\n",
      "|                                                                     |\n",
      "+---------------------------------------------------------------------+\n",
      "\n",
      "What's next?\n",
      "------------\n",
      "- Check out the documentation: <https://dvc.org/doc>\n",
      "- Get help and share ideas: <https://dvc.org/chat>\n",
      "- Star us on GitHub: <https://github.com/iterative/dvc>\n"
     ]
    }
   ],
   "source": [
    "%%bash\n",
    "cd ~/dvc_sipecam\n",
    "path_dvc=/home/geonode_user/.local/bin/ \n",
    "$path_dvc/dvc init"
   ]
  },
  {
   "cell_type": "markdown",
   "metadata": {},
   "source": [
    "**Create `temp` dir and copy some files of `2_use` dir. This copy is just to show functionality of `dvc`.**"
   ]
  },
  {
   "cell_type": "code",
   "execution_count": 3,
   "metadata": {},
   "outputs": [],
   "source": [
    "%%bash\n",
    "mkdir -p temp/2_use/snmb_animal_empty_binary/animal\n",
    "mkdir -p temp/2_use/snmb_animal_empty_binary/empty\n",
    "cp /sipecam/ecoinformatica/rekognition/2_use/snmb_animal_empty_binary/animal/ESP-1002.JPG  temp/2_use/snmb_animal_empty_binary/animal/\n",
    "cp /sipecam/ecoinformatica/rekognition/2_use/snmb_animal_empty_binary/animal/ESP-1004.JPG  temp/2_use/snmb_animal_empty_binary/animal/\n",
    "cp /sipecam/ecoinformatica/rekognition/2_use/snmb_animal_empty_binary/animal/ESP-1123.JPG  temp/2_use/snmb_animal_empty_binary/animal/\n",
    "cp /sipecam/ecoinformatica/rekognition/2_use/snmb_animal_empty_binary/empty/ESP-239648.JPG temp/2_use/snmb_animal_empty_binary/empty/\n",
    "cp /sipecam/ecoinformatica/rekognition/2_use/snmb_animal_empty_binary/empty/ESP-3322.JPG   temp/2_use/snmb_animal_empty_binary/empty/\n",
    "cp /sipecam/ecoinformatica/rekognition/2_use/snmb_animal_empty_binary/empty/ESP-4383.JPG   temp/2_use/snmb_animal_empty_binary/empty/"
   ]
  },
  {
   "cell_type": "code",
   "execution_count": 4,
   "metadata": {},
   "outputs": [],
   "source": [
    "%%bash\n",
    "cd ~/dvc_sipecam\n",
    "path_dvc=/home/geonode_user/.local/bin/ \n",
    "$path_dvc/dvc remote add 2_use ~/temp/2_use/"
   ]
  },
  {
   "cell_type": "markdown",
   "metadata": {},
   "source": [
    "See: https://dvc.org/doc/user-guide/managing-external-data"
   ]
  },
  {
   "cell_type": "markdown",
   "metadata": {},
   "source": [
    "**Next execute `dvc add` *recursively***"
   ]
  },
  {
   "cell_type": "code",
   "execution_count": 5,
   "metadata": {},
   "outputs": [
    {
     "name": "stdout",
     "output_type": "stream",
     "text": [
      "\n",
      "To track the changes with git, run:\n",
      "\n",
      "\tgit add ESP-1123.JPG.dvc ESP-1004.JPG.dvc ESP-1002.JPG.dvc\n"
     ]
    }
   ],
   "source": [
    "%%bash\n",
    "cd ~/dvc_sipecam\n",
    "path_dvc=/home/geonode_user/.local/bin/\n",
    "mkdir -p 2_use/snmb_animal_empty_binary/animal/\n",
    "cd 2_use/snmb_animal_empty_binary/animal/\n",
    "$path_dvc/dvc add --external -R ~/temp/2_use/snmb_animal_empty_binary/animal/"
   ]
  },
  {
   "cell_type": "code",
   "execution_count": 6,
   "metadata": {},
   "outputs": [
    {
     "name": "stdout",
     "output_type": "stream",
     "text": [
      "[main 62ec0a8] Add dvc files for data\n",
      " 12 files changed, 527 insertions(+)\n",
      " create mode 100644 .dvc/.gitignore\n",
      " create mode 100644 .dvc/config\n",
      " create mode 100644 .dvc/plots/confusion.json\n",
      " create mode 100644 .dvc/plots/confusion_normalized.json\n",
      " create mode 100644 .dvc/plots/default.json\n",
      " create mode 100644 .dvc/plots/linear.json\n",
      " create mode 100644 .dvc/plots/scatter.json\n",
      " create mode 100644 .dvc/plots/smooth.json\n",
      " create mode 100644 .dvcignore\n",
      " create mode 100644 2_use/snmb_animal_empty_binary/animal/ESP-1002.JPG.dvc\n",
      " create mode 100644 2_use/snmb_animal_empty_binary/animal/ESP-1004.JPG.dvc\n",
      " create mode 100644 2_use/snmb_animal_empty_binary/animal/ESP-1123.JPG.dvc\n"
     ]
    }
   ],
   "source": [
    "%%bash\n",
    "cd ~/dvc_sipecam\n",
    "cd 2_use/snmb_animal_empty_binary/animal/\n",
    "git add ESP-1002.JPG.dvc ESP-1004.JPG.dvc ESP-1123.JPG.dvc\n",
    "git commit -m \"Add dvc files for data\""
   ]
  },
  {
   "cell_type": "code",
   "execution_count": 7,
   "metadata": {},
   "outputs": [
    {
     "name": "stdout",
     "output_type": "stream",
     "text": [
      "3 files pushed\n"
     ]
    }
   ],
   "source": [
    "%%bash\n",
    "cd ~/dvc_sipecam\n",
    "path_dvc=/home/geonode_user/.local/bin/\n",
    "$path_dvc/dvc push -r 2_use\n"
   ]
  },
  {
   "cell_type": "code",
   "execution_count": 8,
   "metadata": {},
   "outputs": [
    {
     "name": "stderr",
     "output_type": "stream",
     "text": [
      "To github.com:palmoreck/dvc_sipecam.git\n",
      "   fed864b..62ec0a8  main -> main\n"
     ]
    }
   ],
   "source": [
    "%%bash\n",
    "cd ~/dvc_sipecam\n",
    "git push"
   ]
  },
  {
   "cell_type": "code",
   "execution_count": 9,
   "metadata": {},
   "outputs": [
    {
     "name": "stdout",
     "output_type": "stream",
     "text": [
      "[main 4a2ff06] config file updated with remote\n",
      " 1 file changed, 2 insertions(+)\n"
     ]
    },
    {
     "name": "stderr",
     "output_type": "stream",
     "text": [
      "To github.com:palmoreck/dvc_sipecam.git\n",
      "   62ec0a8..4a2ff06  main -> main\n"
     ]
    }
   ],
   "source": [
    "%%bash\n",
    "cd ~/dvc_sipecam\n",
    "git commit -m \"config file updated with remote\" .dvc/config\n",
    "git push"
   ]
  },
  {
   "cell_type": "markdown",
   "metadata": {},
   "source": [
    "# Retrieve data"
   ]
  },
  {
   "cell_type": "code",
   "execution_count": 10,
   "metadata": {},
   "outputs": [
    {
     "name": "stderr",
     "output_type": "stream",
     "text": [
      "Cloning into 'new_repo'...\n"
     ]
    }
   ],
   "source": [
    "%%bash\n",
    "cd ~\n",
    "git clone git@github.com:palmoreck/dvc_sipecam.git new_repo"
   ]
  },
  {
   "cell_type": "code",
   "execution_count": 11,
   "metadata": {},
   "outputs": [
    {
     "name": "stdout",
     "output_type": "stream",
     "text": [
      "total 20K\n",
      "drwxr-xr-x 3 geonode_user geonode_user 4.0K Nov 18 17:02 .\n",
      "drwxr-xr-x 5 geonode_user geonode_user 4.0K Nov 18 17:02 ..\n",
      "-rw-r--r-- 1 geonode_user geonode_user   26 Nov 18 17:02 .gitignore\n",
      "-rw-r--r-- 1 geonode_user geonode_user   59 Nov 18 17:02 config\n",
      "drwxr-xr-x 2 geonode_user geonode_user 4.0K Nov 18 17:02 plots\n"
     ]
    }
   ],
   "source": [
    "%%bash\n",
    "cd ~/new_repo/\n",
    "ls -lha .dvc/"
   ]
  },
  {
   "cell_type": "code",
   "execution_count": 12,
   "metadata": {},
   "outputs": [
    {
     "name": "stdout",
     "output_type": "stream",
     "text": [
      "['remote \"2_use\"']\n",
      "    url = /home/geonode_user/temp/2_use\n"
     ]
    }
   ],
   "source": [
    "%%bash\n",
    "cd ~/new_repo/\n",
    "cat .dvc/config"
   ]
  },
  {
   "cell_type": "code",
   "execution_count": 13,
   "metadata": {},
   "outputs": [
    {
     "name": "stdout",
     "output_type": "stream",
     "text": [
      "3 files fetched\n"
     ]
    }
   ],
   "source": [
    "%%bash\n",
    "cd ~/new_repo/\n",
    "path_dvc=/home/geonode_user/.local/bin/\n",
    "$path_dvc/dvc pull -r 2_use"
   ]
  },
  {
   "cell_type": "markdown",
   "metadata": {},
   "source": [
    "**After `dvc pull` dir `cache` is populated**"
   ]
  },
  {
   "cell_type": "code",
   "execution_count": 14,
   "metadata": {},
   "outputs": [
    {
     "name": "stdout",
     "output_type": "stream",
     "text": [
      ".dvc/cache/16:\n",
      "total 380K\n",
      "drwxr-xr-x 2 geonode_user geonode_user 4.0K Nov 18 17:02 .\n",
      "drwxr-xr-x 5 geonode_user geonode_user 4.0K Nov 18 17:02 ..\n",
      "-r--r--r-- 1 geonode_user geonode_user 369K Nov 18 17:02 95fdd20bf4326868107e8e3e3d18c1\n",
      "\n",
      ".dvc/cache/33:\n",
      "total 380K\n",
      "drwxr-xr-x 2 geonode_user geonode_user 4.0K Nov 18 17:02 .\n",
      "drwxr-xr-x 5 geonode_user geonode_user 4.0K Nov 18 17:02 ..\n",
      "-r--r--r-- 1 geonode_user geonode_user 371K Nov 18 17:02 effec8266529618df22437e9166e33\n",
      "\n",
      ".dvc/cache/91:\n",
      "total 372K\n",
      "drwxr-xr-x 2 geonode_user geonode_user 4.0K Nov 18 17:02 .\n",
      "drwxr-xr-x 5 geonode_user geonode_user 4.0K Nov 18 17:02 ..\n",
      "-r--r--r-- 1 geonode_user geonode_user 362K Nov 18 17:02 936c0c48e4f5b2cc8bbdec5648b2fd\n"
     ]
    }
   ],
   "source": [
    "%%bash\n",
    "cd ~/new_repo/\n",
    "ls -lha .dvc/cache/*"
   ]
  },
  {
   "cell_type": "code",
   "execution_count": 35,
   "metadata": {},
   "outputs": [
    {
     "name": "stdout",
     "output_type": "stream",
     "text": [
      "total 12K\n",
      "-rw-r--r-- 1 geonode_user geonode_user 144 Nov 18 17:01 ESP-1002.JPG.dvc\n",
      "-rw-r--r-- 1 geonode_user geonode_user 144 Nov 18 17:01 ESP-1004.JPG.dvc\n",
      "-rw-r--r-- 1 geonode_user geonode_user 144 Nov 18 17:01 ESP-1123.JPG.dvc\n"
     ]
    }
   ],
   "source": [
    "%%bash\n",
    "cd ~/dvc_sipecam/\n",
    "ls -lh 2_use/snmb_animal_empty_binary/animal/"
   ]
  },
  {
   "cell_type": "markdown",
   "metadata": {},
   "source": [
    "# Example 2: `directory` with data in some path of filesystem. Execute `dvc add` to `dir`"
   ]
  },
  {
   "cell_type": "code",
   "execution_count": 15,
   "metadata": {},
   "outputs": [
    {
     "name": "stderr",
     "output_type": "stream",
     "text": [
      "Cloning into 'dvc_sipecam_2'...\n"
     ]
    }
   ],
   "source": [
    "%%bash\n",
    "cd ~\n",
    "git clone git@github.com:palmoreck/dvc_sipecam_2.git"
   ]
  },
  {
   "cell_type": "code",
   "execution_count": 16,
   "metadata": {},
   "outputs": [
    {
     "name": "stdout",
     "output_type": "stream",
     "text": [
      "Initialized DVC repository.\n",
      "\n",
      "You can now commit the changes to git.\n",
      "\n",
      "+---------------------------------------------------------------------+\n",
      "|                                                                     |\n",
      "|        DVC has enabled anonymous aggregate usage analytics.         |\n",
      "|     Read the analytics documentation (and how to opt-out) here:     |\n",
      "|             <https://dvc.org/doc/user-guide/analytics>              |\n",
      "|                                                                     |\n",
      "+---------------------------------------------------------------------+\n",
      "\n",
      "What's next?\n",
      "------------\n",
      "- Check out the documentation: <https://dvc.org/doc>\n",
      "- Get help and share ideas: <https://dvc.org/chat>\n",
      "- Star us on GitHub: <https://github.com/iterative/dvc>\n"
     ]
    }
   ],
   "source": [
    "%%bash\n",
    "cd ~/dvc_sipecam_2\n",
    "path_dvc=/home/geonode_user/.local/bin/ \n",
    "$path_dvc/dvc init"
   ]
  },
  {
   "cell_type": "markdown",
   "metadata": {},
   "source": [
    "**Create `temp_2` dir and copy some files of `2_use` dir. This copy is just to show functionality of `dvc`.**"
   ]
  },
  {
   "cell_type": "code",
   "execution_count": 17,
   "metadata": {},
   "outputs": [],
   "source": [
    "%%bash\n",
    "mkdir -p temp_2/2_use/snmb_animal_empty_binary/animal\n",
    "mkdir -p temp_2/2_use/snmb_animal_empty_binary/empty\n",
    "cp /sipecam/ecoinformatica/rekognition/2_use/snmb_animal_empty_binary/animal/ESP-1002.JPG  temp_2/2_use/snmb_animal_empty_binary/animal/\n",
    "cp /sipecam/ecoinformatica/rekognition/2_use/snmb_animal_empty_binary/animal/ESP-1004.JPG  temp_2/2_use/snmb_animal_empty_binary/animal/\n",
    "cp /sipecam/ecoinformatica/rekognition/2_use/snmb_animal_empty_binary/animal/ESP-1123.JPG  temp_2/2_use/snmb_animal_empty_binary/animal/\n",
    "cp /sipecam/ecoinformatica/rekognition/2_use/snmb_animal_empty_binary/empty/ESP-239648.JPG temp_2/2_use/snmb_animal_empty_binary/empty/\n",
    "cp /sipecam/ecoinformatica/rekognition/2_use/snmb_animal_empty_binary/empty/ESP-3322.JPG   temp_2/2_use/snmb_animal_empty_binary/empty/\n",
    "cp /sipecam/ecoinformatica/rekognition/2_use/snmb_animal_empty_binary/empty/ESP-4383.JPG   temp_2/2_use/snmb_animal_empty_binary/empty/"
   ]
  },
  {
   "cell_type": "code",
   "execution_count": 18,
   "metadata": {},
   "outputs": [],
   "source": [
    "%%bash\n",
    "cd ~/dvc_sipecam_2\n",
    "path_dvc=/home/geonode_user/.local/bin/ \n",
    "$path_dvc/dvc remote add 2_use ~/temp_2/2_use/"
   ]
  },
  {
   "cell_type": "markdown",
   "metadata": {},
   "source": [
    "See: https://dvc.org/doc/user-guide/managing-external-data"
   ]
  },
  {
   "cell_type": "markdown",
   "metadata": {},
   "source": [
    "**Next execute `dvc add` to `dir`**"
   ]
  },
  {
   "cell_type": "code",
   "execution_count": 19,
   "metadata": {},
   "outputs": [
    {
     "name": "stdout",
     "output_type": "stream",
     "text": [
      "\n",
      "To track the changes with git, run:\n",
      "\n",
      "\tgit add animal.dvc\n"
     ]
    }
   ],
   "source": [
    "%%bash\n",
    "cd ~/dvc_sipecam_2\n",
    "path_dvc=/home/geonode_user/.local/bin/\n",
    "mkdir -p 2_use/snmb_animal_empty_binary/animal/\n",
    "cd 2_use/snmb_animal_empty_binary/animal/\n",
    "$path_dvc/dvc add --external ~/temp_2/2_use/snmb_animal_empty_binary/animal/"
   ]
  },
  {
   "cell_type": "code",
   "execution_count": 20,
   "metadata": {},
   "outputs": [
    {
     "name": "stdout",
     "output_type": "stream",
     "text": [
      "[main 190c6a5] Add dvc files for data\n",
      " 10 files changed, 520 insertions(+)\n",
      " create mode 100644 .dvc/.gitignore\n",
      " create mode 100644 .dvc/config\n",
      " create mode 100644 .dvc/plots/confusion.json\n",
      " create mode 100644 .dvc/plots/confusion_normalized.json\n",
      " create mode 100644 .dvc/plots/default.json\n",
      " create mode 100644 .dvc/plots/linear.json\n",
      " create mode 100644 .dvc/plots/scatter.json\n",
      " create mode 100644 .dvc/plots/smooth.json\n",
      " create mode 100644 .dvcignore\n",
      " create mode 100644 2_use/snmb_animal_empty_binary/animal/animal.dvc\n"
     ]
    }
   ],
   "source": [
    "%%bash\n",
    "cd ~/dvc_sipecam_2\n",
    "cd 2_use/snmb_animal_empty_binary/animal/\n",
    "git add animal.dvc\n",
    "git commit -m \"Add dvc files for data\""
   ]
  },
  {
   "cell_type": "code",
   "execution_count": 21,
   "metadata": {},
   "outputs": [
    {
     "name": "stdout",
     "output_type": "stream",
     "text": [
      "['remote \"2_use\"']\n",
      "    url = /home/geonode_user/temp_2/2_use\n"
     ]
    }
   ],
   "source": [
    "%%bash\n",
    "cd ~/dvc_sipecam_2\n",
    "cat .dvc/config"
   ]
  },
  {
   "cell_type": "code",
   "execution_count": 22,
   "metadata": {},
   "outputs": [
    {
     "name": "stdout",
     "output_type": "stream",
     "text": [
      "4 files pushed\n"
     ]
    }
   ],
   "source": [
    "%%bash\n",
    "cd ~/dvc_sipecam_2\n",
    "path_dvc=/home/geonode_user/.local/bin/\n",
    "$path_dvc/dvc push -r 2_use\n"
   ]
  },
  {
   "cell_type": "code",
   "execution_count": 23,
   "metadata": {},
   "outputs": [
    {
     "name": "stderr",
     "output_type": "stream",
     "text": [
      "To github.com:palmoreck/dvc_sipecam_2.git\n",
      "   cebd0c6..190c6a5  main -> main\n"
     ]
    }
   ],
   "source": [
    "%%bash\n",
    "cd ~/dvc_sipecam_2\n",
    "git push"
   ]
  },
  {
   "cell_type": "code",
   "execution_count": 24,
   "metadata": {},
   "outputs": [
    {
     "name": "stdout",
     "output_type": "stream",
     "text": [
      "[main 9832ce9] config file with remote\n",
      " 1 file changed, 2 insertions(+)\n"
     ]
    },
    {
     "name": "stderr",
     "output_type": "stream",
     "text": [
      "To github.com:palmoreck/dvc_sipecam_2.git\n",
      "   190c6a5..9832ce9  main -> main\n"
     ]
    }
   ],
   "source": [
    "%%bash\n",
    "cd ~/dvc_sipecam_2/\n",
    "git commit -m \"config file with remote\" .dvc/config\n",
    "git push"
   ]
  },
  {
   "cell_type": "code",
   "execution_count": 34,
   "metadata": {},
   "outputs": [
    {
     "name": "stdout",
     "output_type": "stream",
     "text": [
      "total 4.0K\n",
      "-rw-r--r-- 1 geonode_user geonode_user 151 Nov 18 17:03 animal.dvc\n"
     ]
    }
   ],
   "source": [
    "%%bash\n",
    "cd ~/dvc_sipecam_2/\n",
    "ls -lh 2_use/snmb_animal_empty_binary/animal/"
   ]
  },
  {
   "cell_type": "markdown",
   "metadata": {},
   "source": [
    "# Retrieve data"
   ]
  },
  {
   "cell_type": "code",
   "execution_count": 25,
   "metadata": {},
   "outputs": [
    {
     "name": "stderr",
     "output_type": "stream",
     "text": [
      "Cloning into 'new_repo_2'...\n"
     ]
    }
   ],
   "source": [
    "%%bash\n",
    "cd ~\n",
    "git clone git@github.com:palmoreck/dvc_sipecam_2.git new_repo_2"
   ]
  },
  {
   "cell_type": "code",
   "execution_count": 26,
   "metadata": {},
   "outputs": [
    {
     "name": "stdout",
     "output_type": "stream",
     "text": [
      "total 20K\n",
      "drwxr-xr-x 3 geonode_user geonode_user 4.0K Nov 18 17:05 .\n",
      "drwxr-xr-x 5 geonode_user geonode_user 4.0K Nov 18 17:05 ..\n",
      "-rw-r--r-- 1 geonode_user geonode_user   26 Nov 18 17:05 .gitignore\n",
      "-rw-r--r-- 1 geonode_user geonode_user   61 Nov 18 17:05 config\n",
      "drwxr-xr-x 2 geonode_user geonode_user 4.0K Nov 18 17:05 plots\n"
     ]
    }
   ],
   "source": [
    "%%bash\n",
    "cd ~/new_repo_2/\n",
    "ls -lha .dvc/"
   ]
  },
  {
   "cell_type": "code",
   "execution_count": 27,
   "metadata": {},
   "outputs": [
    {
     "name": "stdout",
     "output_type": "stream",
     "text": [
      "['remote \"2_use\"']\n",
      "    url = /home/geonode_user/temp_2/2_use\n"
     ]
    }
   ],
   "source": [
    "%%bash\n",
    "cd ~/new_repo_2/\n",
    "cat .dvc/config"
   ]
  },
  {
   "cell_type": "code",
   "execution_count": 28,
   "metadata": {},
   "outputs": [
    {
     "name": "stdout",
     "output_type": "stream",
     "text": [
      "3 files fetched\n"
     ]
    }
   ],
   "source": [
    "%%bash\n",
    "cd ~/new_repo_2/\n",
    "path_dvc=/home/geonode_user/.local/bin/\n",
    "$path_dvc/dvc pull -r 2_use"
   ]
  },
  {
   "cell_type": "markdown",
   "metadata": {},
   "source": [
    "**After `dvc pull` dir `cache` is populated**"
   ]
  },
  {
   "cell_type": "code",
   "execution_count": 29,
   "metadata": {},
   "outputs": [
    {
     "name": "stdout",
     "output_type": "stream",
     "text": [
      ".dvc/cache/16:\n",
      "total 380K\n",
      "drwxr-xr-x 2 geonode_user geonode_user 4.0K Nov 18 17:05 .\n",
      "drwxr-xr-x 6 geonode_user geonode_user 4.0K Nov 18 17:05 ..\n",
      "-r--r--r-- 1 geonode_user geonode_user 369K Nov 18 17:05 95fdd20bf4326868107e8e3e3d18c1\n",
      "\n",
      ".dvc/cache/33:\n",
      "total 380K\n",
      "drwxr-xr-x 2 geonode_user geonode_user 4.0K Nov 18 17:05 .\n",
      "drwxr-xr-x 6 geonode_user geonode_user 4.0K Nov 18 17:05 ..\n",
      "-r--r--r-- 1 geonode_user geonode_user 371K Nov 18 17:05 effec8266529618df22437e9166e33\n",
      "\n",
      ".dvc/cache/91:\n",
      "total 372K\n",
      "drwxr-xr-x 2 geonode_user geonode_user 4.0K Nov 18 17:05 .\n",
      "drwxr-xr-x 6 geonode_user geonode_user 4.0K Nov 18 17:05 ..\n",
      "-r--r--r-- 1 geonode_user geonode_user 362K Nov 18 17:05 936c0c48e4f5b2cc8bbdec5648b2fd\n",
      "\n",
      ".dvc/cache/94:\n",
      "total 12K\n",
      "drwxr-xr-x 2 geonode_user geonode_user 4.0K Nov 18 17:05 .\n",
      "drwxr-xr-x 6 geonode_user geonode_user 4.0K Nov 18 17:05 ..\n",
      "-r--r--r-- 1 geonode_user geonode_user  216 Nov 18 17:05 a0955518c624fc2809c61887350112.dir\n"
     ]
    }
   ],
   "source": [
    "%%bash\n",
    "cd ~/new_repo_2/\n",
    "ls -lha .dvc/cache/*"
   ]
  },
  {
   "cell_type": "markdown",
   "metadata": {},
   "source": [
    "# Retrieve data from sipecam-models"
   ]
  },
  {
   "cell_type": "code",
   "execution_count": 1,
   "metadata": {},
   "outputs": [
    {
     "name": "stderr",
     "output_type": "stream",
     "text": [
      "Cloning into 'sipecam-models'...\n",
      "Warning: Permanently added the ECDSA host key for IP address '140.82.114.3' to the list of known hosts.\n",
      "Checking out files: 100% (36/36), done.\n"
     ]
    }
   ],
   "source": [
    "%%bash\n",
    "cd ~\n",
    "git clone git@github.com:CONABIO/sipecam-models.git"
   ]
  },
  {
   "cell_type": "code",
   "execution_count": 2,
   "metadata": {},
   "outputs": [
    {
     "name": "stdout",
     "output_type": "stream",
     "text": [
      "['remote \"2_use\"']\n",
      "    url = /sipecam/ecoinformatica/rekognition/2_use_aws\n"
     ]
    }
   ],
   "source": [
    "%%bash\n",
    "cd ~/sipecam-models/\n",
    "cat .dvc/config"
   ]
  },
  {
   "cell_type": "code",
   "execution_count": 3,
   "metadata": {},
   "outputs": [
    {
     "name": "stdout",
     "output_type": "stream",
     "text": [
      "total 20K\n",
      "drwxr-xr-x 3 geonode_user geonode_user 4.0K Nov 19 13:14 .\n",
      "drwxr-xr-x 8 geonode_user geonode_user 4.0K Nov 19 13:14 ..\n",
      "-rw-r--r-- 1 geonode_user geonode_user   26 Nov 19 13:14 .gitignore\n",
      "-rw-r--r-- 1 geonode_user geonode_user   75 Nov 19 13:14 config\n",
      "drwxr-xr-x 2 geonode_user geonode_user 4.0K Nov 19 13:14 plots\n"
     ]
    }
   ],
   "source": [
    "%%bash\n",
    "cd ~/sipecam-models/\n",
    "ls -lha .dvc/"
   ]
  },
  {
   "cell_type": "code",
   "execution_count": 4,
   "metadata": {},
   "outputs": [
    {
     "name": "stdout",
     "output_type": "stream",
     "text": [
      "34369 files fetched\n"
     ]
    }
   ],
   "source": [
    "%%bash\n",
    "cd ~/sipecam-models/\n",
    "path_dvc=/home/geonode_user/.local/bin/\n",
    "sudo $path_dvc/dvc pull -r 2_use"
   ]
  },
  {
   "cell_type": "markdown",
   "metadata": {},
   "source": [
    "**After `dvc pull` dir `cache` is populated**"
   ]
  },
  {
   "cell_type": "code",
   "execution_count": 6,
   "metadata": {},
   "outputs": [
    {
     "name": "stdout",
     "output_type": "stream",
     "text": [
      ".dvc/cache/00:\n",
      "total 81M\n",
      "drwxr-xr-x   2 root root   12K Nov 19 13:17 .\n",
      "drwxr-xr-x 258 root root  4.0K Nov 19 13:14 ..\n",
      "-r--r--r--   1 root root  172K Nov 19 13:15 003922ff6c7794b644ad88e1e6cb6d\n",
      "-r--r--r--   1 root root  676K Nov 19 13:14 02711070d80e01b264c07a7705895a\n",
      "-r--r--r--   1 root root  794K Nov 19 13:16 02fa3979b805b86b4dfecd40519c26\n",
      "-r--r--r--   1 root root  620K Nov 19 13:17 072c1baeeef91a23569a696510cb0c\n",
      "-r--r--r--   1 root root  117K Nov 19 13:17 08e83927c153d4eb4600c08835242c\n",
      "-r--r--r--   1 root root  559K Nov 19 13:14 097752a14be2f115905afc9b941a90\n",
      "-r--r--r--   1 root root  1.4M Nov 19 13:15 09b359c8f34e38e1f8e59028d21646\n",
      "-r--r--r--   1 root root  384K Nov 19 13:16 09d59a934062a310c074e97711a6db\n",
      "-r--r--r--   1 root root  728K Nov 19 13:16 0afa9789e0a92cd698c072965de747\n",
      "-r--r--r--   1 root root  557K Nov 19 13:16 1195f0bfd270a3beff8ee47129ecc1\n",
      "-r--r--r--   1 root root  676K Nov 19 13:16 125db56136d9ac953a3981be01469f\n",
      "-r--r--r--   1 root root  749K Nov 19 13:15 13aa6c27d1c0aa82602c4f38945a3d\n",
      "-r--r--r--   1 root root  190K Nov 19 13:16 15391cd0201dc9b22ce4b63e5cce00\n",
      "-r--r--r--   1 root root  935K Nov 19 13:14 17007637e1451d7f1ffc8eba074564\n",
      "-r--r--r--   1 root root  476K Nov 19 13:15 188c67a6415aa267cf403218dc8e60\n",
      "-r--r--r--   1 root root  526K Nov 19 13:16 1bb239b71d43556235ec2fcaa25e6c\n",
      "-r--r--r--   1 root root  691K Nov 19 13:16 1c9ed4ffdfe1f0f8aba8b21f8cf053\n",
      "-r--r--r--   1 root root 1013K Nov 19 13:15 1e4b1c91d70b369db1d54469e8f378\n",
      "-r--r--r--   1 root root  758K Nov 19 13:15 1ebd309f6e59d98d09ae765b14466b\n",
      "-r--r--r--   1 root root  390K Nov 19 13:15 204da76ca54fc6becbb20ed8434f00\n",
      "-r--r--r--   1 root root  336K Nov 19 13:16 20e229d9135bf6c17a6934dfe24875\n",
      "-r--r--r--   1 root root  513K Nov 19 13:15 22cc1874136a69c2951a56dbf4b066\n",
      "-r--r--r--   1 root root  713K Nov 19 13:16 26e35de1a6af5b67120e13abe9b72e\n",
      "-r--r--r--   1 root root  123K Nov 19 13:15 27b476b7f4029f36f36eaff5ef7d4a\n",
      "-r--r--r--   1 root root  290K Nov 19 13:16 2866724b9993fa55b519fae752904e\n",
      "-r--r--r--   1 root root  1.8M Nov 19 13:15 28be8be07d9f6742deadb58e485630\n",
      "-r--r--r--   1 root root  928K Nov 19 13:15 2b7fa1b735673610da368cfd87c9fb\n",
      "-r--r--r--   1 root root  310K Nov 19 13:16 2dda6749544d341c439f793fc066ac\n",
      "-r--r--r--   1 root root  678K Nov 19 13:16 2eaef7bace744e8696f3516f073484\n",
      "-r--r--r--   1 root root  230K Nov 19 13:17 3066a149a282ef27ae516de3a7d06b\n",
      "-r--r--r--   1 root root  2.5M Nov 19 13:14 30eeb6fdbff5ce00a9231040e948bc\n",
      "-r--r--r--   1 root root  589K Nov 19 13:17 33685449c9103acf4f63a7d7787192\n",
      "-r--r--r--   1 root root  1.2M Nov 19 13:17 38d2eb5fb4a23da2b1d511cc92410b\n",
      "-r--r--r--   1 root root  528K Nov 19 13:16 3923c885154138493351ffcf9285d5\n",
      "-r--r--r--   1 root root  823K Nov 19 13:17 395ec8428b1ab65568f3f9390b04fc\n",
      "-r--r--r--   1 root root  282K Nov 19 13:17 3be94572b52a704ba36115755b691d\n",
      "-r--r--r--   1 root root  706K Nov 19 13:15 3e3cdfef8d41dd50c79bfa02aea1e2\n",
      "-r--r--r--   1 root root  365K Nov 19 13:15 3f03dbbd71a343207a579e94c25e8e\n",
      "-r--r--r--   1 root root  438K Nov 19 13:14 4186fb58b56a784e55a417303b58df\n",
      "-r--r--r--   1 root root  529K Nov 19 13:17 46bab1bbc5cd6aaad924741c9ea4aa\n",
      "-r--r--r--   1 root root  396K Nov 19 13:14 49a72ce1e92444dae82c458e43b956\n",
      "-r--r--r--   1 root root  915K Nov 19 13:14 4ba5f85fab84c507c5d15e66f79c10\n",
      "-r--r--r--   1 root root  889K Nov 19 13:16 4e9b80f40ea35b92b67128e72f1c6a\n",
      "-r--r--r--   1 root root  451K Nov 19 13:16 4f010b1abf704cdb0973f906a89cf9\n",
      "-r--r--r--   1 root root  468K Nov 19 13:15 50815ff8c0f3b4f4233cf72734a066\n",
      "-r--r--r--   1 root root  439K Nov 19 13:17 53686945cc9e55dcf118b5c0ed126b\n",
      "-r--r--r--   1 root root  496K Nov 19 13:16 53eb4562b1ecd3c92669277941bbda\n",
      "-r--r--r--   1 root root  238K Nov 19 13:17 5f1bd1a560be667bab6a6c4e02d891\n",
      "-r--r--r--   1 root root  271K Nov 19 13:16 6071ed54b54a26f94b439a6ce86a68\n",
      "-r--r--r--   1 root root  720K Nov 19 13:16 61590f81dca72fc9740b0cf5c0aaef\n",
      "-r--r--r--   1 root root   93K Nov 19 13:17 61c56291f41a601f4b046cfd21bdf6\n",
      "-r--r--r--   1 root root  1.1M Nov 19 13:16 627d3111b31eba3315cb4aae0c4e93\n",
      "-r--r--r--   1 root root  376K Nov 19 13:16 63caa6c755638b8050669c122e6f2f\n",
      "-r--r--r--   1 root root  547K Nov 19 13:15 649ef32938eee7a884080777e8f6f7\n",
      "-r--r--r--   1 root root  415K Nov 19 13:17 6508097c0b71b84e4ae0207ca4888b\n",
      "-r--r--r--   1 root root  299K Nov 19 13:15 6a67f7a6dda484f3489b1f793a0888\n",
      "-r--r--r--   1 root root  617K Nov 19 13:15 6b8f6d4435ef6d16452220bd23a69f\n",
      "-r--r--r--   1 root root  727K Nov 19 13:16 6cda44e799c1445baccd5550beb666\n",
      "-r--r--r--   1 root root  139K Nov 19 13:16 6d0d301a7d50289ff3164496393436\n",
      "-r--r--r--   1 root root  472K Nov 19 13:15 6f12a1745ff24b68b596e530f2e582\n",
      "-r--r--r--   1 root root  637K Nov 19 13:15 710fa80850f1aeb9b74378c3d600da\n",
      "-r--r--r--   1 root root   94K Nov 19 13:17 71f77702109e2f1c5520acd78dc728\n",
      "-r--r--r--   1 root root  1.2M Nov 19 13:15 74087c0f085bff211f23d2f69b68d1\n",
      "-r--r--r--   1 root root  104K Nov 19 13:15 79bcf974d40b7fdb03bfc8fc6467b7\n",
      "-r--r--r--   1 root root  1.1M Nov 19 13:14 7bb486d0e8f992986d274651f8bd48\n",
      "-r--r--r--   1 root root  408K Nov 19 13:15 7bc2bb1ba45e0a53dca512a3be9b21\n",
      "-r--r--r--   1 root root  2.4M Nov 19 13:16 8065b664a78c4d67371244b2375013\n",
      "-r--r--r--   1 root root  2.1M Nov 19 13:15 88afb14c87499f9091d75f88f80a6f\n",
      "-r--r--r--   1 root root  416K Nov 19 13:17 893498f89678b4fc21a29a7b944063\n",
      "-r--r--r--   1 root root   92K Nov 19 13:15 8a3dfccc9cbd7be7b3c858da28d1af\n",
      "-r--r--r--   1 root root  2.5M Nov 19 13:16 8ff515ddb22f06681591faf4d37ded\n",
      "-r--r--r--   1 root root  380K Nov 19 13:16 909edf059b98800ab4a94d2c708b14\n",
      "-r--r--r--   1 root root  1.3M Nov 19 13:15 97d40a0be2eee26451e6918996abca\n",
      "-r--r--r--   1 root root  1.1M Nov 19 13:17 99382f9c507b4808007e9b0037cdac\n",
      "-r--r--r--   1 root root  836K Nov 19 13:16 9a4e926554a2b7ca577f8770f356a4\n",
      "-r--r--r--   1 root root  1.9M Nov 19 13:14 9abbf1f78ec4c31e7e277879ea16f8\n",
      "-r--r--r--   1 root root  574K Nov 19 13:16 9bbca910e1c0b429a5e5277c86df94\n",
      "-r--r--r--   1 root root  2.0M Nov 19 13:15 9dd184dbfc9cb3e89c5292aa6594af\n",
      "-r--r--r--   1 root root  794K Nov 19 13:14 9e693c045964b3a040dbb956b78836\n",
      "-r--r--r--   1 root root 1012K Nov 19 13:16 9fdde8754dcc89a6d9a4901f220820\n",
      "-r--r--r--   1 root root  491K Nov 19 13:15 a0fce96976b594eb9e3e655c162d9b\n",
      "-r--r--r--   1 root root  568K Nov 19 13:14 a1b3724f81b929772669fe16a69c3a\n",
      "-r--r--r--   1 root root  1.1M Nov 19 13:16 a3e9e39fc432b501eda94f7cab2df6\n",
      "-r--r--r--   1 root root  450K Nov 19 13:15 a6e8a08e9da3bfef32b964634bd2b3\n",
      "-r--r--r--   1 root root  345K Nov 19 13:16 a710889c55d754f847d4963169361f\n",
      "-r--r--r--   1 root root  519K Nov 19 13:14 a8bef38da0ec7c7ce5d4894eaac0e4\n",
      "-r--r--r--   1 root root  678K Nov 19 13:17 aad53c68e6fa8603b4831d6bb51762\n",
      "-r--r--r--   1 root root  369K Nov 19 13:15 aca045aaac0db908b63cd00d4bc961\n",
      "-r--r--r--   1 root root   58K Nov 19 13:15 adf8f3cf447437b7edafaa903ad99e\n",
      "-r--r--r--   1 root root  798K Nov 19 13:15 b331b9c529ba24fde4d8a8e3ffaeea\n",
      "-r--r--r--   1 root root  1.5M Nov 19 13:16 b3f12c5cee670fcc4db6cc3ce5e839\n",
      "-r--r--r--   1 root root  465K Nov 19 13:15 b5dd34c28ed4172e6338819e712852\n",
      "-r--r--r--   1 root root  314K Nov 19 13:15 b6c07d04faf8ba03661e2ee45348ca\n",
      "-r--r--r--   1 root root  450K Nov 19 13:17 b9f272c686f95b7f5714eda8c94693\n",
      "-r--r--r--   1 root root  659K Nov 19 13:14 bd3ccae0f3b88dc0946209195d7ca5\n",
      "-r--r--r--   1 root root  329K Nov 19 13:16 bdb6a2b8cb06abf06f9276740c63b0\n",
      "-r--r--r--   1 root root  232K Nov 19 13:15 beb65e03edd9940b34f02e439edfb0\n",
      "-r--r--r--   1 root root  2.0M Nov 19 13:16 c055c0a6d0b80c8eb5a0dd387e68e3\n",
      "-r--r--r--   1 root root  177K Nov 19 13:15 c1a2744cd1178120c99c771f9d0f42\n",
      "-r--r--r--   1 root root  934K Nov 19 13:16 c49f7668e93d5313acd8de48fb66d6\n",
      "-r--r--r--   1 root root  667K Nov 19 13:15 c7c44818ac6f7916fe56c215e2defb\n",
      "-r--r--r--   1 root root  287K Nov 19 13:17 cc8bfb8a3de8c5a5275943ace029ef\n",
      "-r--r--r--   1 root root  299K Nov 19 13:14 cc91bec073414be79bcdebd280b331\n",
      "-r--r--r--   1 root root  166K Nov 19 13:15 ccbe5c96fbd69c6c5db92a832df845\n",
      "-r--r--r--   1 root root  907K Nov 19 13:15 cd2c56a6c1ae2efcc42fbeeceac461\n",
      "-r--r--r--   1 root root  623K Nov 19 13:15 d5851f3b48bc43906536fbfb1eb035\n",
      "-r--r--r--   1 root root  313K Nov 19 13:16 d6708b9d1babf41d4691156b3b1b16\n",
      "-r--r--r--   1 root root  480K Nov 19 13:15 d882eac56c305b39d88c6e31aa0343\n",
      "-r--r--r--   1 root root  2.0M Nov 19 13:15 dc4f586df448172f21752610c30c62\n",
      "-r--r--r--   1 root root  1.6M Nov 19 13:15 e5e5df209ca6701e9a5ede3c8d3271\n",
      "-r--r--r--   1 root root  474K Nov 19 13:15 e9c0c3e80a37f2241ac7760188add1\n",
      "-r--r--r--   1 root root  637K Nov 19 13:16 ea119bff302850a3324a621308213e\n",
      "-r--r--r--   1 root root  1.2M Nov 19 13:17 ea3738765c64af8d9f8f4a5373597e\n",
      "-r--r--r--   1 root root  456K Nov 19 13:16 ecc8111a065b55a8caaf1cfcde12a4\n",
      "-r--r--r--   1 root root  637K Nov 19 13:16 f21f755bb189a0c4a1e2b6576bc450\n",
      "-r--r--r--   1 root root  1.2M Nov 19 13:14 f271a93cd51d786ec15a160d4c07dc\n",
      "-r--r--r--   1 root root  245K Nov 19 13:16 f31308c222c36e81a36b048aa3f429\n",
      "-r--r--r--   1 root root  312K Nov 19 13:15 f6a4bf331896be6d8538137f6982c2\n",
      "-r--r--r--   1 root root  607K Nov 19 13:17 f8e958892754e97fb8f6c72996209d\n",
      "-r--r--r--   1 root root  395K Nov 19 13:15 fc7f77fc993da2aab609b31d08a5e2\n",
      "\n",
      ".dvc/cache/01:\n",
      "total 81M\n",
      "drwxr-xr-x   2 root root   12K Nov 19 13:17 .\n",
      "drwxr-xr-x 258 root root  4.0K Nov 19 13:14 ..\n",
      "-r--r--r--   1 root root  1.8M Nov 19 13:16 014709ddc4f00ce20de03490c98d31\n",
      "-r--r--r--   1 root root  220K Nov 19 13:16 09f1ed51b70be9a8f3eb0fc7d137af\n",
      "-r--r--r--   1 root root  532K Nov 19 13:16 0a7fa02301763d61916ceaf9118b7e\n",
      "-r--r--r--   1 root root  261K Nov 19 13:15 0ad697cfbffad376bc2fa458c41ef6\n",
      "-r--r--r--   1 root root  327K Nov 19 13:17 0ba9e68283fe653086e42f471ed3a8\n",
      "-r--r--r--   1 root root  1.3M Nov 19 13:15 0c9a5f7b5d64033edb39d9b7a48c14\n",
      "-r--r--r--   1 root root  279K Nov 19 13:14 0d6cd62ca8cd0d4dd6df472f08534e\n",
      "-r--r--r--   1 root root  160K Nov 19 13:16 0eb98553e40ea5043419da078dc957\n",
      "-r--r--r--   1 root root  633K Nov 19 13:16 1034ad37aa2639dfc8ca1c590f1fe6\n",
      "-r--r--r--   1 root root  634K Nov 19 13:17 12bfba2a9430cd2308f4b810d6041a\n",
      "-r--r--r--   1 root root  482K Nov 19 13:17 15c698361df522eb7f3e45e7b5d66f\n",
      "-r--r--r--   1 root root  460K Nov 19 13:16 16f7f0aec0d20e3e0d938e4640ebe7\n",
      "-r--r--r--   1 root root  665K Nov 19 13:16 1ac6a62d75a484ea7e8c0e43b0270c\n",
      "-r--r--r--   1 root root  655K Nov 19 13:16 1c76ec803c9a5f2d4ade9650e6e0ae\n",
      "-r--r--r--   1 root root  423K Nov 19 13:15 1d05230735d43c144a37cbcaa69248\n",
      "-r--r--r--   1 root root  393K Nov 19 13:14 1d1bd316883b96c46f0e43ff874847\n",
      "-r--r--r--   1 root root  206K Nov 19 13:16 1d7c2aba5871b5e2aafea1b6147586\n",
      "-r--r--r--   1 root root  631K Nov 19 13:16 2003d8d0a5587b520b8283e7412289\n",
      "-r--r--r--   1 root root  263K Nov 19 13:15 201568b2df7f6ac6e355cbbac6b6e9\n",
      "-r--r--r--   1 root root  331K Nov 19 13:14 21289959ccfc3092511e07dcb41bf1\n",
      "-r--r--r--   1 root root  111K Nov 19 13:17 213a82c421d4634f3132f8e2f250e7\n",
      "-r--r--r--   1 root root  543K Nov 19 13:15 2169a7d0b1b266b84d795c89805d73\n",
      "-r--r--r--   1 root root  436K Nov 19 13:15 23111fcda7cef4ff64b1b7a4cd0021\n",
      "-r--r--r--   1 root root  432K Nov 19 13:16 24e7c8f3ccb12a68596e62d6745ef7\n",
      "-r--r--r--   1 root root  898K Nov 19 13:15 25ff78d7e32c9b09f4aa40ef5f7112\n",
      "-r--r--r--   1 root root  361K Nov 19 13:15 2688cac0397fd8212ae5f2cfea5388\n",
      "-r--r--r--   1 root root  170K Nov 19 13:15 28843a5ba678d10733a28a67e7d4e0\n",
      "-r--r--r--   1 root root  409K Nov 19 13:14 297548c03e814e57e5cd04e0fd8370\n",
      "-r--r--r--   1 root root  306K Nov 19 13:15 29b8ee2c7aac9653cf6287f97dc159\n",
      "-r--r--r--   1 root root  403K Nov 19 13:16 2f18dab1c1ca45f7474673548f65f8\n",
      "-r--r--r--   1 root root  1.1M Nov 19 13:16 35b413351b08ed121e45cfb7478e35\n",
      "-r--r--r--   1 root root  603K Nov 19 13:15 37ddcf0b9a93a2dad02b1848cf1671\n",
      "-r--r--r--   1 root root  2.1M Nov 19 13:14 38c15a2d31767a0147e5f0576a11c1\n",
      "-r--r--r--   1 root root  1.2M Nov 19 13:17 39b0311b6c62d9cec39dc084b09950\n",
      "-r--r--r--   1 root root  750K Nov 19 13:16 3ab7b21337e728d8ac94ec402f8650\n",
      "-r--r--r--   1 root root  209K Nov 19 13:17 3adec5de461f09dd4ed2b2b6542c2f\n",
      "-r--r--r--   1 root root  187K Nov 19 13:16 3b490b1a7520202e996c410a759801\n",
      "-r--r--r--   1 root root  103K Nov 19 13:17 3b9480d4e068a8f14a1ab228a45e0f\n",
      "-r--r--r--   1 root root  966K Nov 19 13:16 3c2d4aab4e2e4647a696d8746ff059\n",
      "-r--r--r--   1 root root  431K Nov 19 13:16 3d3a0f97821d95bc4e7e009db322c3\n",
      "-r--r--r--   1 root root  219K Nov 19 13:16 3de58cf3d75f2e5f9f52401f42e473\n",
      "-r--r--r--   1 root root  573K Nov 19 13:15 3e7c06854e89721e235cc932fb4037\n",
      "-r--r--r--   1 root root  630K Nov 19 13:16 3f850a2ed4780196a147cc549701b3\n",
      "-r--r--r--   1 root root  2.4M Nov 19 13:16 407d4a02119637e72c2a277af8324c\n",
      "-r--r--r--   1 root root  2.5M Nov 19 13:15 4094990a23586c261ddaa6da368528\n",
      "-r--r--r--   1 root root  899K Nov 19 13:15 42f7b9f02ef1c03d1456d4c6f332bd\n",
      "-r--r--r--   1 root root  333K Nov 19 13:16 4373f0cf79148ec240d29d40c723d7\n",
      "-r--r--r--   1 root root  398K Nov 19 13:14 4421bf982ea0908134f68c009a0fd3\n",
      "-r--r--r--   1 root root  192K Nov 19 13:16 451eab8e1b0068d83fe66cc6fe29e8\n",
      "-r--r--r--   1 root root  184K Nov 19 13:16 4ad5584b6881df8aceffed8329ba6a\n",
      "-r--r--r--   1 root root  303K Nov 19 13:15 4c883bb5ccb0f78d23d4b28e4d43d0\n",
      "-r--r--r--   1 root root  564K Nov 19 13:15 5249dbb1cc7a1ed295a5b9dfbf0514\n",
      "-r--r--r--   1 root root  1.3M Nov 19 13:16 52cc68ca3fe0adaa6fcf117bc39247\n",
      "-r--r--r--   1 root root  359K Nov 19 13:15 535c3eb00abf16451a84d6b9260161\n",
      "-r--r--r--   1 root root  637K Nov 19 13:17 54d12ff97ae51d31a088b337bb798e\n",
      "-r--r--r--   1 root root  471K Nov 19 13:15 55a7411dca5addc6e63ec6dd0503e6\n",
      "-r--r--r--   1 root root  1.5M Nov 19 13:17 564cdbbde55220dec064384751ee1a\n",
      "-r--r--r--   1 root root  342K Nov 19 13:14 570b6645684572243827b6d77743c7\n",
      "-r--r--r--   1 root root  896K Nov 19 13:16 596f2aaed23fdebd55b38ed2a6de6a\n",
      "-r--r--r--   1 root root  298K Nov 19 13:16 5a96c5f9af4fa7b99b358dfb4b2c88\n",
      "-r--r--r--   1 root root  447K Nov 19 13:14 5b42ccaf5d4e8648a5a172b9a4d2ff\n",
      "-r--r--r--   1 root root  840K Nov 19 13:17 5be7fbe1d109398db745b88e046101\n",
      "-r--r--r--   1 root root  781K Nov 19 13:15 5d48a6794b30773dd05c74d2455b52\n",
      "-r--r--r--   1 root root  451K Nov 19 13:17 5da98ecf48be1b023c16cc5dc99451\n",
      "-r--r--r--   1 root root  582K Nov 19 13:15 5e1a43ddd8dad1c2ce0ec447ea8cdf\n",
      "-r--r--r--   1 root root  1.1M Nov 19 13:16 5ee22b095e4e50114d09c3bb6f8308\n",
      "-r--r--r--   1 root root 1009K Nov 19 13:15 5f536c2587231c525d9d7a3c314051\n",
      "-r--r--r--   1 root root  319K Nov 19 13:16 60c3699c0cf73451a95f22cd01a33d\n",
      "-r--r--r--   1 root root  209K Nov 19 13:16 615be1c157b3596d8498d8df76155e\n",
      "-r--r--r--   1 root root  1.6M Nov 19 13:17 61a2f943862162cfa852df9b84d1a1\n",
      "-r--r--r--   1 root root  516K Nov 19 13:16 63a3acd0f9b605116657acfd0227da\n",
      "-r--r--r--   1 root root  394K Nov 19 13:16 663385f8a1feee0868a45ac38adc8b\n",
      "-r--r--r--   1 root root  487K Nov 19 13:15 66fa882501e990dd956c7e55a7fba5\n",
      "-r--r--r--   1 root root  1.3M Nov 19 13:16 6731fe95692db8f5d1871932d47b12\n",
      "-r--r--r--   1 root root  785K Nov 19 13:15 6784deea5c6b20261179d1984fe26a\n",
      "-r--r--r--   1 root root  370K Nov 19 13:16 695c471b16118cfe1b2b725f51ccce\n",
      "-r--r--r--   1 root root  350K Nov 19 13:14 69d5e8cebafdcbdf81f8c1500e00e9\n",
      "-r--r--r--   1 root root  287K Nov 19 13:14 6c2e3875dee781bdf3256959050023\n",
      "-r--r--r--   1 root root  1.8M Nov 19 13:15 6ddc466d3217abd664949af99f6990\n",
      "-r--r--r--   1 root root  867K Nov 19 13:15 6e111be4ddc00d80253fd7dda42794\n",
      "-r--r--r--   1 root root  475K Nov 19 13:17 6f0d7999b0d503609fd83f2016a2d4\n",
      "-r--r--r--   1 root root  1.3M Nov 19 13:16 6f31a554dfe191b67dcd573ee9add1\n",
      "-r--r--r--   1 root root  1.4M Nov 19 13:15 793771838416ceda245f3d6c0b4a6b\n",
      "-r--r--r--   1 root root  468K Nov 19 13:16 7d24f6bd71e133d9d9bd5b558ded0e\n",
      "-r--r--r--   1 root root  209K Nov 19 13:15 828e5aad51f55567af22236067bf27\n",
      "-r--r--r--   1 root root  824K Nov 19 13:17 8b72a7b4af627c36e6ff12eb4d1092\n",
      "-r--r--r--   1 root root  609K Nov 19 13:16 8e3d0ef364c57c194c3f208393de1c\n",
      "-r--r--r--   1 root root  363K Nov 19 13:17 8ed717086297828f34ee65f02b8f34\n",
      "-r--r--r--   1 root root  226K Nov 19 13:16 8f1ed8a83e18256e6d34a858820c33\n",
      "-r--r--r--   1 root root  1.1M Nov 19 13:16 8f96844d09ee583de26d758e6995a0\n",
      "-r--r--r--   1 root root  346K Nov 19 13:16 9179bcea4518ef28ad66a83849ed81\n",
      "-r--r--r--   1 root root  216K Nov 19 13:17 939aa8d12f93c3aa6e651dd121441f\n",
      "-r--r--r--   1 root root  529K Nov 19 13:17 9fe04e62d168666af858018fa461bd\n",
      "-r--r--r--   1 root root  676K Nov 19 13:16 a1df94036998b7e63fb9af433900c5\n",
      "-r--r--r--   1 root root  622K Nov 19 13:16 a490a6bffb3a829103c9fd433a21ef\n",
      "-r--r--r--   1 root root  491K Nov 19 13:14 a5d4a362b2a51faed643da93992461\n",
      "-r--r--r--   1 root root  360K Nov 19 13:16 a645d7e669e9e92410f1cdb7baf8f8\n",
      "-r--r--r--   1 root root  139K Nov 19 13:17 a81df91e583ec0121396a5d3493c46\n",
      "-r--r--r--   1 root root  284K Nov 19 13:17 aa37a350158660f4497acbcd109269\n",
      "-r--r--r--   1 root root  222K Nov 19 13:16 abd4e3aebff0f7811e70ed2414e2cc\n",
      "-r--r--r--   1 root root  408K Nov 19 13:15 ad49c8f5671805f24224655c149e92\n",
      "-r--r--r--   1 root root  312K Nov 19 13:16 aea3a6408250741843e95c2c449fe7\n",
      "-r--r--r--   1 root root  605K Nov 19 13:14 b4cd999658085e2c02a6ce700809fd\n",
      "-r--r--r--   1 root root  314K Nov 19 13:14 b557826500ea41ba07e839eb9992ba\n",
      "-r--r--r--   1 root root  440K Nov 19 13:17 ba40a1ca126d496ab170d677aa90a5\n",
      "-r--r--r--   1 root root  434K Nov 19 13:16 bbc67ce48664c395997ca2f0e14f9d\n",
      "-r--r--r--   1 root root  366K Nov 19 13:15 bcc61416bbc56c60dd4c63d236e031\n",
      "-r--r--r--   1 root root  518K Nov 19 13:15 bedb328c1adaa423622f6395cd68fc\n",
      "-r--r--r--   1 root root  712K Nov 19 13:16 c15cbf41888f6f31e65278ca789f9d\n",
      "-r--r--r--   1 root root  738K Nov 19 13:16 c1642420ae571295be5d52b617c4ae\n",
      "-r--r--r--   1 root root  572K Nov 19 13:17 c22626be79fbd535fa758a9fc1d43a\n",
      "-r--r--r--   1 root root  588K Nov 19 13:17 c378ddeeedee249a1abbc64434daca\n",
      "-r--r--r--   1 root root  372K Nov 19 13:16 c4095d188a0086f560566994a60bc4\n",
      "-r--r--r--   1 root root  236K Nov 19 13:17 c7afc996aebc86f6cd27492b7cbb3b\n",
      "-r--r--r--   1 root root  648K Nov 19 13:16 c9ae2a7334bd675abf1b20bf22e856\n",
      "-r--r--r--   1 root root  306K Nov 19 13:17 ca89511e2c1d7e58881852a37d3e24\n",
      "-r--r--r--   1 root root  567K Nov 19 13:14 cdcb535e49f70fb58633fa4415126a\n",
      "-r--r--r--   1 root root  185K Nov 19 13:15 cf844d1b784027ccf063cc61fecacb\n",
      "-r--r--r--   1 root root  528K Nov 19 13:17 d42ba2283c431953a012798916e8ae\n",
      "-r--r--r--   1 root root  883K Nov 19 13:14 d6d9fa7db73ee6504e41bbe3c97807\n",
      "-r--r--r--   1 root root  467K Nov 19 13:17 d7632da8e2688e12173eadc7f51780\n",
      "-r--r--r--   1 root root  294K Nov 19 13:15 d8d9a69948aa9e1a8b912a1f41dfd9\n",
      "-r--r--r--   1 root root  319K Nov 19 13:16 db25a646ac7873417ff234c8cec881\n",
      "-r--r--r--   1 root root  695K Nov 19 13:15 e0853cff447766571cde6b1f450380\n",
      "-r--r--r--   1 root root  603K Nov 19 13:14 e337fcf3b0acf8672e6afdc5036d08\n",
      "-r--r--r--   1 root root  281K Nov 19 13:17 e53bcc1595014fdd324e3af0150c58\n",
      "-r--r--r--   1 root root  291K Nov 19 13:16 e5e4ed7fab9ee8cfa95fa4d866728d\n",
      "-r--r--r--   1 root root  1.3M Nov 19 13:15 e673bfb9c6f99b4c297b9a1e3760d3\n",
      "-r--r--r--   1 root root  456K Nov 19 13:16 e771903a2f22a8c59c5cf3463abfb5\n",
      "-r--r--r--   1 root root  196K Nov 19 13:15 e91108aaf5463e36c28c5ab12cb453\n",
      "-r--r--r--   1 root root  659K Nov 19 13:16 eb0dd7f631e3786142078e3506cee4\n",
      "-r--r--r--   1 root root  2.2M Nov 19 13:15 f2a6e5067cf9cf39427df1abb66a8d\n",
      "-r--r--r--   1 root root  1.3M Nov 19 13:15 fbb18392f792a70deec6f52d4260a8\n",
      "-r--r--r--   1 root root  994K Nov 19 13:15 fbc77f240c1e668babf47172a13504\n",
      "\n",
      ".dvc/cache/10:\n",
      "total 96M\n",
      "drwxr-xr-x   2 root root   12K Nov 19 13:17 .\n",
      "drwxr-xr-x 258 root root  4.0K Nov 19 13:14 ..\n",
      "-r--r--r--   1 root root  647K Nov 19 13:16 00acacf1897c264c1147cc637b5942\n",
      "-r--r--r--   1 root root  755K Nov 19 13:16 06f6f2df2c0444e558d33998b8b832\n",
      "-r--r--r--   1 root root  1.2M Nov 19 13:15 07b79cccb6fd747c7322f20c4ed378\n",
      "-r--r--r--   1 root root  1.1M Nov 19 13:15 0842b4619483b329eb6ba23b0f0d92\n",
      "-r--r--r--   1 root root  1.3M Nov 19 13:16 08675b2955efddcc0b5f36fbdc88d0\n",
      "-r--r--r--   1 root root  279K Nov 19 13:15 09e4bf3669e084a018b9adc2638afe\n",
      "-r--r--r--   1 root root  316K Nov 19 13:17 0a54a62aa1bf8e88f12572e907cdf3\n",
      "-r--r--r--   1 root root  423K Nov 19 13:16 0db63928efe5a3431276c9be0e3710\n",
      "-r--r--r--   1 root root  179K Nov 19 13:15 0f55707b041250ce4d683d08bf643f\n",
      "-r--r--r--   1 root root  481K Nov 19 13:14 0fe18c91a376e1fca18ccda8445725\n",
      "-r--r--r--   1 root root  641K Nov 19 13:14 11c2fe2a7c2b5320c9d22a98902ef5\n",
      "-r--r--r--   1 root root  535K Nov 19 13:16 1216527b2b97eef6197e9a93305740\n",
      "-r--r--r--   1 root root  410K Nov 19 13:15 12bad93513f08382dbd4c7da3d611c\n",
      "-r--r--r--   1 root root  383K Nov 19 13:15 13a70b99daeb3281d53a3dbe6ae9ff\n",
      "-r--r--r--   1 root root  685K Nov 19 13:14 14165d70f18087d75f1c8210d81359\n",
      "-r--r--r--   1 root root  295K Nov 19 13:15 1449891561cb974f3bf3bbe8ffafa3\n",
      "-r--r--r--   1 root root  492K Nov 19 13:14 14b14e1946327b9142bba69f6439a9\n",
      "-r--r--r--   1 root root  255K Nov 19 13:15 15c9bf9dcde0ab3e4de4aa08c3072b\n",
      "-r--r--r--   1 root root  525K Nov 19 13:15 15e3128408bc194c41c6c5a8c581a1\n",
      "-r--r--r--   1 root root  335K Nov 19 13:17 18337e3c2696479f309c300d5c1a79\n",
      "-r--r--r--   1 root root  421K Nov 19 13:16 1953d6f91ebb608c91691fc2a74485\n",
      "-r--r--r--   1 root root  499K Nov 19 13:15 196caa22147c170f26b04b30543df9\n",
      "-r--r--r--   1 root root  558K Nov 19 13:15 1deaab839783a143f07268b5beaa8d\n",
      "-r--r--r--   1 root root  661K Nov 19 13:15 1ea34e20cf5400c5b84eea333bb7e1\n",
      "-r--r--r--   1 root root  369K Nov 19 13:16 21af4546cb8bab58758d4bb9b62d00\n",
      "-r--r--r--   1 root root  356K Nov 19 13:14 21e1bac17586022c22a21802bdf2c0\n",
      "-r--r--r--   1 root root  276K Nov 19 13:16 2226edc1756531920cab1369fcaff1\n",
      "-r--r--r--   1 root root  1.4M Nov 19 13:17 2270058bf3a1a446573667747cf6b2\n",
      "-r--r--r--   1 root root  966K Nov 19 13:15 23c73db8f153253fb3839c48864868\n",
      "-r--r--r--   1 root root  731K Nov 19 13:14 26e198ec7a814dbc1ae1ff5c1d0cac\n",
      "-r--r--r--   1 root root  360K Nov 19 13:16 276de2ce4f39b8b0664ca70014a49b\n",
      "-r--r--r--   1 root root  2.4M Nov 19 13:17 28829d64e22800c0913e479d6c43a9\n",
      "-r--r--r--   1 root root  1.3M Nov 19 13:15 2a88bc9821eada599a4d23e3a995ea\n",
      "-r--r--r--   1 root root  293K Nov 19 13:16 2af9307c685a98f3aa4d557984a853\n",
      "-r--r--r--   1 root root  1.3M Nov 19 13:15 2d60ff66e3c2c33d2b763c62722700\n",
      "-r--r--r--   1 root root  754K Nov 19 13:16 2e38b793a2c4621d8c3455af8a4a52\n",
      "-r--r--r--   1 root root  607K Nov 19 13:16 2fcfa1cfb7478551764ea3364640d7\n",
      "-r--r--r--   1 root root  1.8M Nov 19 13:16 30f3124f6e76beed031b65dfb7cdd4\n",
      "-r--r--r--   1 root root  177K Nov 19 13:15 312982de8f80e41a4e93ffeffec188\n",
      "-r--r--r--   1 root root  491K Nov 19 13:15 3203f640b5aa52b10b9bd848c4268d\n",
      "-r--r--r--   1 root root  113K Nov 19 13:17 3348597e3808e0432c46893c0c2119\n",
      "-r--r--r--   1 root root  1.2M Nov 19 13:16 343d5e9af482fcc4a47f5c839288dd\n",
      "-r--r--r--   1 root root  398K Nov 19 13:17 3726427269be94dd7c5c4f43c044e5\n",
      "-r--r--r--   1 root root  931K Nov 19 13:15 3ebe3ab4a963d1245c6d4566f7691b\n",
      "-r--r--r--   1 root root  384K Nov 19 13:15 41c4a8fb44b6db653c44bef7169fa7\n",
      "-r--r--r--   1 root root  764K Nov 19 13:16 45bf84fe2c56bc0add232e03839a34\n",
      "-r--r--r--   1 root root  605K Nov 19 13:15 4e7b61e982418a98250ec2e6f328da\n",
      "-r--r--r--   1 root root  696K Nov 19 13:16 4ee6646332bb4c0bfe1fec78d613ae\n",
      "-r--r--r--   1 root root  296K Nov 19 13:16 53daa6f732cf4c3f83c00b171cc6f2\n",
      "-r--r--r--   1 root root  349K Nov 19 13:16 53e82b9e609dde0f8996d6b0adc69c\n",
      "-r--r--r--   1 root root  301K Nov 19 13:16 54090f08ea580aec9bbfe4e0066e93\n",
      "-r--r--r--   1 root root  403K Nov 19 13:15 57c2126d51cbef0ea5f24fbbe880bc\n",
      "-r--r--r--   1 root root  578K Nov 19 13:16 5951c7b06a1f4a203ac309403f367a\n",
      "-r--r--r--   1 root root  149K Nov 19 13:15 5f25be9985468d2c393ff7de17a7a2\n",
      "-r--r--r--   1 root root  501K Nov 19 13:14 61566f013cd021491866f733bdce2f\n",
      "-r--r--r--   1 root root  161K Nov 19 13:15 643e5112f757b31b08f491456ef590\n",
      "-r--r--r--   1 root root  650K Nov 19 13:16 657cd7e87824398361e9df1ec476b9\n",
      "-r--r--r--   1 root root  558K Nov 19 13:15 6b42bf9d887b57dda53cf79f742f66\n",
      "-r--r--r--   1 root root  1.2M Nov 19 13:16 6bdcf390b7a48824ca141a61c1aca3\n",
      "-r--r--r--   1 root root  1.3M Nov 19 13:16 6c55b3a5ababeef8f997541cdf49a3\n",
      "-r--r--r--   1 root root  649K Nov 19 13:14 6eaddee2578449c3edb0edcfa5463c\n",
      "-r--r--r--   1 root root  907K Nov 19 13:17 7167b48f918d523de967b91949d513\n",
      "-r--r--r--   1 root root  805K Nov 19 13:15 71facfeec987c3d3039a7bd9b29c40\n",
      "-r--r--r--   1 root root  1.4M Nov 19 13:17 72e0099fcf0d59311e872d5e10a356\n",
      "-r--r--r--   1 root root  295K Nov 19 13:15 7316dfa2b936ab42f11ed18646c33a\n",
      "-r--r--r--   1 root root  2.0M Nov 19 13:15 7489a372fd370db46465d208dfdbe8\n",
      "-r--r--r--   1 root root  510K Nov 19 13:16 74db296b1a132724af5302a3ea4ee0\n",
      "-r--r--r--   1 root root  547K Nov 19 13:15 7641926e6ba71c6d52b11d5d0d630a\n",
      "-r--r--r--   1 root root  357K Nov 19 13:15 7d12bb6284306fda9f57ad1d9dec4c\n",
      "-r--r--r--   1 root root  690K Nov 19 13:16 81e990fa9a40f162aa43425b6efbc9\n",
      "-r--r--r--   1 root root  2.1M Nov 19 13:15 821e6e82ad79b612d4d5a11b9ff99a\n",
      "-r--r--r--   1 root root  511K Nov 19 13:15 841f6d880b5ff473b681a99c8d9d92\n",
      "-r--r--r--   1 root root  617K Nov 19 13:15 849f9aa23271a3b361e2dd327e197b\n",
      "-r--r--r--   1 root root  546K Nov 19 13:15 85029af7e86be751c21c122cc2f648\n",
      "-r--r--r--   1 root root 1005K Nov 19 13:15 858b2d72af0d0f8221dc4167890332\n",
      "-r--r--r--   1 root root  396K Nov 19 13:16 8599ec4e738b88c80f7d9114c99e84\n",
      "-r--r--r--   1 root root  351K Nov 19 13:16 86bc6338f35f805c2118135f71f0c6\n",
      "-r--r--r--   1 root root  276K Nov 19 13:16 878a7c74e6c2c4a0aab7055ebd0b4e\n",
      "-r--r--r--   1 root root  340K Nov 19 13:16 8a5c1a46e5eb22a51ef56367b8137c\n",
      "-r--r--r--   1 root root  766K Nov 19 13:16 901f7c9049785cf63bff4ac6e6d58c\n",
      "-r--r--r--   1 root root  127K Nov 19 13:16 904e4571d7b69f1096caa6458b1f03\n",
      "-r--r--r--   1 root root  715K Nov 19 13:16 91d4f29f6106bd150537af671b5e81\n",
      "-r--r--r--   1 root root  637K Nov 19 13:14 9312d483bb90f223d7be7e58b17d97\n",
      "-r--r--r--   1 root root  451K Nov 19 13:15 96543248e3959fb68bce99a1e49298\n",
      "-r--r--r--   1 root root  600K Nov 19 13:15 9c47db7a02723033056be7ec99cc71\n",
      "-r--r--r--   1 root root  255K Nov 19 13:16 9dcfded46842816c7cf6b93fffcc1c\n",
      "-r--r--r--   1 root root  475K Nov 19 13:16 a374a972576ae14d55ee8b99be5940\n",
      "-r--r--r--   1 root root  1.2M Nov 19 13:16 a4267083e1b637f6e788810744342e\n",
      "-r--r--r--   1 root root  524K Nov 19 13:16 a4810e9cc508bdd2d418289b686765\n",
      "-r--r--r--   1 root root  360K Nov 19 13:15 a873351648dbea72a3034dc1a1fa0f\n",
      "-r--r--r--   1 root root  311K Nov 19 13:14 a8a9d9f50f08c037893e3a2a8cfd2c\n",
      "-r--r--r--   1 root root  164K Nov 19 13:16 a8f8ae8072f807f8a6b64883fb345f\n",
      "-r--r--r--   1 root root  176K Nov 19 13:17 aa37026a3ba59fcf8477194cba7882\n",
      "-r--r--r--   1 root root  317K Nov 19 13:15 aa9c80f27a35e5957dea824fd6c570\n",
      "-r--r--r--   1 root root  2.5M Nov 19 13:14 aab65c97a328fd46465f9cf7f1834a\n",
      "-r--r--r--   1 root root  1.3M Nov 19 13:17 aade49b6a72600c037705636d1577f\n",
      "-r--r--r--   1 root root  904K Nov 19 13:17 ab52b16738b5ee94519d538df7ff51\n",
      "-r--r--r--   1 root root  302K Nov 19 13:17 abdcff6b61dcd81496ebfa50ed32a6\n",
      "-r--r--r--   1 root root  346K Nov 19 13:16 ae0a5b0c4928b42fc2c9482103d2e0\n",
      "-r--r--r--   1 root root  392K Nov 19 13:16 aefc423d07d1c9ef6315f1011003cd\n",
      "-r--r--r--   1 root root  267K Nov 19 13:14 b1a3093b59f0e02e6e105e52ba2678\n",
      "-r--r--r--   1 root root  269K Nov 19 13:16 b2563e134b3e39ab85c5a9398b5aef\n",
      "-r--r--r--   1 root root  399K Nov 19 13:16 b37f74c8e3dc6be59089f6d816c218\n",
      "-r--r--r--   1 root root  408K Nov 19 13:15 b3d2d008f4f6f33bbc02557c1ac9c0\n",
      "-r--r--r--   1 root root  1.3M Nov 19 13:15 b3f0a37498a308640b190900bad6e6\n",
      "-r--r--r--   1 root root  570K Nov 19 13:15 b73ecddba5ce81487934eb579e8561\n",
      "-r--r--r--   1 root root  417K Nov 19 13:15 b7c90adf3751c747fbb7bab4286d78\n",
      "-r--r--r--   1 root root  298K Nov 19 13:14 b851f92ffc5514be2a87814e06790f\n",
      "-r--r--r--   1 root root  315K Nov 19 13:17 b954270020451f739dedfa97dd9fe4\n",
      "-r--r--r--   1 root root  552K Nov 19 13:17 bb7de3f929793cd1e36cbef3135c01\n",
      "-r--r--r--   1 root root  511K Nov 19 13:15 bc44f7dfdbc09d371ad0bab9864f8c\n",
      "-r--r--r--   1 root root  571K Nov 19 13:15 bf9ad07c98b1c0de9b1eee9a6a2815\n",
      "-r--r--r--   1 root root  661K Nov 19 13:14 c1568d86384b1bf9ce73ffc5c020a1\n",
      "-r--r--r--   1 root root  1.6M Nov 19 13:17 c29424cbe232a6e0ede01f5858655c\n",
      "-r--r--r--   1 root root  717K Nov 19 13:14 c2d1a84837b1bd0f01687d1dd0a48f\n",
      "-r--r--r--   1 root root  248K Nov 19 13:14 c570dc34eb44973f602f612572654d\n",
      "-r--r--r--   1 root root  498K Nov 19 13:16 c6dd682f540dda2374b9341d86a989\n",
      "-r--r--r--   1 root root  731K Nov 19 13:16 cae1aeaf1267e48741a4092d911f52\n",
      "-r--r--r--   1 root root  640K Nov 19 13:15 d013955fd71c2d76802192c8559f34\n",
      "-r--r--r--   1 root root  403K Nov 19 13:15 d0e7adb28d43e349d016ea921ba1a5\n",
      "-r--r--r--   1 root root  1.3M Nov 19 13:16 d11b96b12d3655bf6ad7b15b6000d6\n",
      "-r--r--r--   1 root root  2.1M Nov 19 13:16 d23813018215deac7d4383a12a57dd\n",
      "-r--r--r--   1 root root 1009K Nov 19 13:16 d90f1aa7c0c6296ce8236ec0edca79\n",
      "-r--r--r--   1 root root  1.3M Nov 19 13:17 d9294743ee0c5127e81fdcef3b18a7\n",
      "-r--r--r--   1 root root  450K Nov 19 13:16 da3454e472573c2d973d266ac2df06\n",
      "-r--r--r--   1 root root  448K Nov 19 13:16 df19b18b8f9973c2a52ce093b66b28\n",
      "-r--r--r--   1 root root  386K Nov 19 13:14 dfd5700e0c4e3a90d55a1ace63b7fc\n",
      "-r--r--r--   1 root root  650K Nov 19 13:15 e229777f449d1560780d59a0f94414\n",
      "-r--r--r--   1 root root  387K Nov 19 13:15 e3f26f7ff41ca3f89ef23f2c3e1a2e\n",
      "-r--r--r--   1 root root  213K Nov 19 13:16 e4881ac32c5bc9595e3f2b8eecb561\n",
      "-r--r--r--   1 root root  709K Nov 19 13:14 e613f18263243c43dc47db66d510fc\n",
      "-r--r--r--   1 root root  507K Nov 19 13:15 e63fa98686090ab518eba451ee4255\n",
      "-r--r--r--   1 root root  436K Nov 19 13:16 e6b1b81a5c15c3d61071491d70b264\n",
      "-r--r--r--   1 root root  527K Nov 19 13:15 e9f2db567fc2beb2a6e4d62dd84146\n",
      "-r--r--r--   1 root root  990K Nov 19 13:17 ead884901853d057f8902651dfe6f3\n",
      "-r--r--r--   1 root root  574K Nov 19 13:15 eaf63d44a0232a4d5538a3f21725e2\n",
      "-r--r--r--   1 root root  767K Nov 19 13:16 ecea37409f3a35be620c607cc8f495\n",
      "-r--r--r--   1 root root  400K Nov 19 13:15 ed68b94791bb0945cc40d3e7b1e1b9\n",
      "-r--r--r--   1 root root  172K Nov 19 13:15 ee0d3f35fadd508b4c925a406f45d4\n",
      "-r--r--r--   1 root root  1.7M Nov 19 13:14 ee732f48819c16961e21483e5588d1\n",
      "-r--r--r--   1 root root  500K Nov 19 13:16 ef5ee95e074bb5bc3d860bd4a94678\n",
      "-r--r--r--   1 root root  480K Nov 19 13:14 efaa53b620ec5f2c47f0c795e1286f\n",
      "-r--r--r--   1 root root  1.1M Nov 19 13:16 efdaa518761b262e83deee3941970b\n",
      "-r--r--r--   1 root root  736K Nov 19 13:16 f01d6d467e3cc100072b4e1c7eeea3\n",
      "-r--r--r--   1 root root  756K Nov 19 13:16 f25839214a4d9fde015acbacef6174\n",
      "-r--r--r--   1 root root  255K Nov 19 13:15 f36e09c4d5caafafd309d0cd11e9ec\n",
      "-r--r--r--   1 root root  215K Nov 19 13:15 fbdc5fa787144b74b2caea7ba95208\n",
      "-r--r--r--   1 root root  284K Nov 19 13:17 fcba3d0f29b718ad292dfb560db83d\n",
      "-r--r--r--   1 root root  669K Nov 19 13:14 fd2618bd50806db0df28ae21d8f04d\n",
      "-r--r--r--   1 root root  463K Nov 19 13:14 ff4746a0c2364a631a3ab42932073c\n",
      "\n",
      ".dvc/cache/11:\n",
      "total 97M\n",
      "drwxr-xr-x   2 root root   12K Nov 19 13:17 .\n",
      "drwxr-xr-x 258 root root  4.0K Nov 19 13:14 ..\n",
      "-r--r--r--   1 root root  385K Nov 19 13:16 0082cc187cdb7f96efb3d5be4bf000\n",
      "-r--r--r--   1 root root  595K Nov 19 13:16 031dc0dffea25ddad407d8d16853f5\n",
      "-r--r--r--   1 root root  562K Nov 19 13:17 0557911141c788bf727ee6a48e2317\n",
      "-r--r--r--   1 root root  276K Nov 19 13:16 06300e7613388cd4720a3deb17b9f9\n",
      "-r--r--r--   1 root root  106K Nov 19 13:17 07da9b73558ad2498d067effb4f285\n",
      "-r--r--r--   1 root root  423K Nov 19 13:16 08a63f83269ad616a7cc9e83c8e08c\n",
      "-r--r--r--   1 root root  400K Nov 19 13:16 0eea5424a265a27a4dda0fb15ff428\n",
      "-r--r--r--   1 root root  2.2M Nov 19 13:16 0f19515495a855c6127bd773f272d7\n",
      "-r--r--r--   1 root root  1.7M Nov 19 13:16 11e4c5493f88edbec6d6231b273c18\n",
      "-r--r--r--   1 root root  995K Nov 19 13:16 13258a6046c2b4fdf15df69ed60ab9\n",
      "-r--r--r--   1 root root  420K Nov 19 13:17 1518316d0477e616ad277c0a047cd0\n",
      "-r--r--r--   1 root root  1.9M Nov 19 13:17 18524b78972a4208d08f4fd2e5ec5e\n",
      "-r--r--r--   1 root root  2.7M Nov 19 13:17 1942eb5702107582ba86f74116f2e3\n",
      "-r--r--r--   1 root root  534K Nov 19 13:17 1ac243989c4bad3b9081bf8a43a8ec\n",
      "-r--r--r--   1 root root  281K Nov 19 13:14 1ade741dc648f038ff8c1fef9b738c\n",
      "-r--r--r--   1 root root  562K Nov 19 13:15 1d6b23a2d2237513e8fd6a7f1cdd8c\n",
      "-r--r--r--   1 root root  290K Nov 19 13:14 207d2970649585ce9ba8d5427581e3\n",
      "-r--r--r--   1 root root  711K Nov 19 13:16 20c8b8f3a1156681e764470cdf100d\n",
      "-r--r--r--   1 root root  439K Nov 19 13:16 218f52284dc44f4354dce12928d373\n",
      "-r--r--r--   1 root root  508K Nov 19 13:17 27c55f5c3db845ad83a2a543d6aaf2\n",
      "-r--r--r--   1 root root  579K Nov 19 13:15 2e7b58de79a5735072b1de87aad8d6\n",
      "-r--r--r--   1 root root  762K Nov 19 13:15 30425efd073f0fe0e400bb5398e415\n",
      "-r--r--r--   1 root root  553K Nov 19 13:15 319a4c77d15604b4ed10bc01d602dd\n",
      "-r--r--r--   1 root root  296K Nov 19 13:17 32400ec5a406b0c021ebfc5e5b0311\n",
      "-r--r--r--   1 root root  346K Nov 19 13:16 3526377cdbb0c7b2a647653acdbfb6\n",
      "-r--r--r--   1 root root  157K Nov 19 13:15 363919816a9426b7c33396aa2266a7\n",
      "-r--r--r--   1 root root  980K Nov 19 13:16 367653f0e3d853fa0d9c4c10df64ca\n",
      "-r--r--r--   1 root root  237K Nov 19 13:17 374b2219cc566cdcace0f0147c88dc\n",
      "-r--r--r--   1 root root  1.5M Nov 19 13:15 378e0fe6a165afcdd64fda81a1dc6b\n",
      "-r--r--r--   1 root root  356K Nov 19 13:17 3b9acfdc49f5eba2996a53e6388f44\n",
      "-r--r--r--   1 root root  631K Nov 19 13:17 3b9df3d0df3640214e3be829176fb8\n",
      "-r--r--r--   1 root root  1.4M Nov 19 13:14 3bf8d2a85ee1bfff5861ea9e4f56a9\n",
      "-r--r--r--   1 root root  323K Nov 19 13:15 3e857df6d2dd4eddc66c5fc07246e5\n",
      "-r--r--r--   1 root root  297K Nov 19 13:15 42ebfd97f2584e2d9c64ef26dec755\n",
      "-r--r--r--   1 root root  1.4M Nov 19 13:15 450f2c4c7e9aa6a96b6c94686af436\n",
      "-r--r--r--   1 root root  525K Nov 19 13:16 457e0653853d3f889599fa1bf5392e\n",
      "-r--r--r--   1 root root  182K Nov 19 13:14 47d5078a081ab0c97d9d7a1c940c4c\n",
      "-r--r--r--   1 root root  1.3M Nov 19 13:16 49222f58da25a5f230d2192e3639a8\n",
      "-r--r--r--   1 root root  2.8M Nov 19 13:17 4acf1c1e7510a125ac43b038864d5e\n",
      "-r--r--r--   1 root root  1.3M Nov 19 13:17 4f5c2f9fa46bf0ed59c42d35e325f7\n",
      "-r--r--r--   1 root root  384K Nov 19 13:16 4fa28e08b5e499000a0c25f43c58c5\n",
      "-r--r--r--   1 root root  173K Nov 19 13:15 53cd6c1bbe6fd6660301767cdfe835\n",
      "-r--r--r--   1 root root  188K Nov 19 13:16 53dc614a1e3fd0dcf2d247f0d77583\n",
      "-r--r--r--   1 root root  1.5M Nov 19 13:15 53def8655c2cd97d82341c8f65a635\n",
      "-r--r--r--   1 root root  615K Nov 19 13:15 5961606106ba4890da3d9d7398eaba\n",
      "-r--r--r--   1 root root  605K Nov 19 13:15 59e8331468f8f0728a4d0a4a3141a7\n",
      "-r--r--r--   1 root root  2.1M Nov 19 13:15 5b9f2c1ea6b3da22257b2fc9ef0c55\n",
      "-r--r--r--   1 root root  1.7M Nov 19 13:16 5e13877c204f23994b33def86a48b7\n",
      "-r--r--r--   1 root root  186K Nov 19 13:14 5ebafa929f0567a8948265e499f950\n",
      "-r--r--r--   1 root root  136K Nov 19 13:16 607f270b5b77e54012f9e8f73f0722\n",
      "-r--r--r--   1 root root  201K Nov 19 13:15 617e59f3198ed708469680c2f59085\n",
      "-r--r--r--   1 root root  899K Nov 19 13:15 64c4837b11a5ae384b0af715b32e76\n",
      "-r--r--r--   1 root root  207K Nov 19 13:16 665cc80535b6350f40ce307f82ff25\n",
      "-r--r--r--   1 root root  753K Nov 19 13:16 666b6a7c75d19027a32d99e8fa1206\n",
      "-r--r--r--   1 root root  1.2M Nov 19 13:16 68c250926de8d3ec51cfce9171b305\n",
      "-r--r--r--   1 root root  317K Nov 19 13:15 6b0435d338a701f4f1b36e955c0c9b\n",
      "-r--r--r--   1 root root  705K Nov 19 13:16 6f45574545a3a257937e241300552b\n",
      "-r--r--r--   1 root root  616K Nov 19 13:17 708bb8390a717693cd371653fc18b9\n",
      "-r--r--r--   1 root root  356K Nov 19 13:15 70d9f50e8650d3ff5eef26f1a4306b\n",
      "-r--r--r--   1 root root 1007K Nov 19 13:16 71b278d1ab79835c767ef3934b58f3\n",
      "-r--r--r--   1 root root  243K Nov 19 13:15 7376ba6403d1cddf6835684d90286d\n",
      "-r--r--r--   1 root root  381K Nov 19 13:15 741fd7d0fb82ea688790e255d9af04\n",
      "-r--r--r--   1 root root  316K Nov 19 13:15 78ad693dff7bb51a1a32e8631bad40\n",
      "-r--r--r--   1 root root  356K Nov 19 13:16 79e8f26fd1413ad7592a6216f2accd\n",
      "-r--r--r--   1 root root  366K Nov 19 13:16 7c65cac116dfd4a253206c377558c7\n",
      "-r--r--r--   1 root root  526K Nov 19 13:17 7c6bb6568e542c14a361818505c48e\n",
      "-r--r--r--   1 root root  698K Nov 19 13:15 7d142c874eccb2ea77146ac9b36cfa\n",
      "-r--r--r--   1 root root  658K Nov 19 13:14 7d5420fa33e01ee0178ac74be528c5\n",
      "-r--r--r--   1 root root  682K Nov 19 13:15 7e7a7f9b8b8fddcb2a9915d29ceaf7\n",
      "-r--r--r--   1 root root  632K Nov 19 13:15 80f7f4b4d692916f329ba60ca0dddb\n",
      "-r--r--r--   1 root root   94K Nov 19 13:16 812f1df33c728cfeab7d3c41b77962\n",
      "-r--r--r--   1 root root  477K Nov 19 13:15 83ea277206d5f83b9ab7622c27c8ea\n",
      "-r--r--r--   1 root root  588K Nov 19 13:16 84fda9bb9ad61da74e9f50a39f4441\n",
      "-r--r--r--   1 root root  774K Nov 19 13:16 85a96630290fa3a831c45ae3b58c94\n",
      "-r--r--r--   1 root root  729K Nov 19 13:15 864be346186e62106e749c20466db5\n",
      "-r--r--r--   1 root root  648K Nov 19 13:15 8667f14bc5da3bad6c734524fa48a5\n",
      "-r--r--r--   1 root root  354K Nov 19 13:17 88a42ee412ee5b37380a54ac413376\n",
      "-r--r--r--   1 root root  947K Nov 19 13:14 8cd5758690e2055aebfff83773e3bc\n",
      "-r--r--r--   1 root root  607K Nov 19 13:16 940d35ffd2bb76389b71084b4fd155\n",
      "-r--r--r--   1 root root  474K Nov 19 13:15 96a3a620f210137973604df98a49a2\n",
      "-r--r--r--   1 root root  637K Nov 19 13:15 97c2f12dd8b6f87ac5a203f061a883\n",
      "-r--r--r--   1 root root  258K Nov 19 13:17 9c62f1bbbf4102d1f5a96cef75e394\n",
      "-r--r--r--   1 root root  367K Nov 19 13:16 9d2bebeb165e61bdc16f9235fa8dab\n",
      "-r--r--r--   1 root root  175K Nov 19 13:17 9eb5ad56d4740627ad64a26006acdd\n",
      "-r--r--r--   1 root root  170K Nov 19 13:16 a0a88ed17060aa8868b322528bf240\n",
      "-r--r--r--   1 root root  157K Nov 19 13:16 a51e26837e6ee460f627bb00c10d58\n",
      "-r--r--r--   1 root root  424K Nov 19 13:16 a7e93225b3b5c51aafa26990a8bee0\n",
      "-r--r--r--   1 root root  497K Nov 19 13:15 ac47d3ddc05f21ea8be71496d59640\n",
      "-r--r--r--   1 root root  524K Nov 19 13:15 ac492e52c5a287f9358b5bc42cd088\n",
      "-r--r--r--   1 root root  414K Nov 19 13:16 aceb371af0180e0ed1c76854e9f03c\n",
      "-r--r--r--   1 root root  357K Nov 19 13:15 ad3dd49bcd9aff59b663a4d9c2cf4f\n",
      "-r--r--r--   1 root root  305K Nov 19 13:14 ad9d5108821e857f9105724b645517\n",
      "-r--r--r--   1 root root  1.3M Nov 19 13:16 ad9f90662d2b424e572bbe96e510cb\n",
      "-r--r--r--   1 root root  514K Nov 19 13:15 b17622da037e365daddb6f1f28e884\n",
      "-r--r--r--   1 root root  183K Nov 19 13:16 b276aa8574a072148f2f5246d7ecf9\n",
      "-r--r--r--   1 root root  1.3M Nov 19 13:15 b37a90224d5ba66791f2f86f169b2a\n",
      "-r--r--r--   1 root root  463K Nov 19 13:15 b38fa80b64c89087bb30451c24ec7f\n",
      "-r--r--r--   1 root root  276K Nov 19 13:15 b470b2a79cec08102ba673305056aa\n",
      "-r--r--r--   1 root root  846K Nov 19 13:15 b4f5e84c3ce55f58dc825fc0c67c52\n",
      "-r--r--r--   1 root root  603K Nov 19 13:17 b6786173ec781b92c9f4abd5bf56d9\n",
      "-r--r--r--   1 root root  1.2M Nov 19 13:16 b6a49552ef0e2814e724aa6966773f\n",
      "-r--r--r--   1 root root  434K Nov 19 13:17 b6f1fd32867237f8fae361d107cf4f\n",
      "-r--r--r--   1 root root  362K Nov 19 13:14 b909ac686165b02234a683db65c3e1\n",
      "-r--r--r--   1 root root  765K Nov 19 13:15 b9aa0480712b58017a2122cdf3dbcf\n",
      "-r--r--r--   1 root root  142K Nov 19 13:16 baa5bcd302aea39a6ea23e2df44a61\n",
      "-r--r--r--   1 root root  298K Nov 19 13:16 baa6d55667e7508068a59dd36ee175\n",
      "-r--r--r--   1 root root  772K Nov 19 13:15 bc4fa62fa7103915c409f9062b060a\n",
      "-r--r--r--   1 root root  484K Nov 19 13:16 be3a2df82fc398bf1ecdb0b343700b\n",
      "-r--r--r--   1 root root  337K Nov 19 13:15 be49a36cbfc05835f7559fc0c809a7\n",
      "-r--r--r--   1 root root  1.2M Nov 19 13:16 bf2a0d10b36fc18fd486076437288f\n",
      "-r--r--r--   1 root root  421K Nov 19 13:14 bff6c47c951c46bab463db33330305\n",
      "-r--r--r--   1 root root  1.9M Nov 19 13:17 c09301cc57e8fa0ed5de067bee6ede\n",
      "-r--r--r--   1 root root  281K Nov 19 13:14 c1b8565dd4c9a898a7393c0031e6f4\n",
      "-r--r--r--   1 root root  105K Nov 19 13:16 c42883b91bc878f95b46d51977ead8\n",
      "-r--r--r--   1 root root  1.6M Nov 19 13:14 c579484a961fb5b899da04ba62426f\n",
      "-r--r--r--   1 root root  1.8M Nov 19 13:15 c595bd0020bcedc78ec162664caebe\n",
      "-r--r--r--   1 root root  2.0M Nov 19 13:16 c784bf7a198af075b9085627409f9a\n",
      "-r--r--r--   1 root root  1.4M Nov 19 13:15 c9427cf4d5c64175387dbb5d8327c2\n",
      "-r--r--r--   1 root root  449K Nov 19 13:15 c9d8513fceacd30c035776b9e92b35\n",
      "-r--r--r--   1 root root  1.3M Nov 19 13:16 ca172e42b4bbb70d1f6d5aa8f0deda\n",
      "-r--r--r--   1 root root  554K Nov 19 13:16 cc6e7dc7be5a9fc030d658b26c4659\n",
      "-r--r--r--   1 root root  576K Nov 19 13:14 cc9db81c392b4208d1449770c632bb\n",
      "-r--r--r--   1 root root 1012K Nov 19 13:15 d14503b9c7113348cd4e741fa1af55\n",
      "-r--r--r--   1 root root  366K Nov 19 13:17 d433384f252c9a7320c4414caa7e63\n",
      "-r--r--r--   1 root root  452K Nov 19 13:14 d488b7836b3ad381fabce75c823ea8\n",
      "-r--r--r--   1 root root  591K Nov 19 13:14 d4fc3a64ece5e5db25f337b28f1b36\n",
      "-r--r--r--   1 root root  133K Nov 19 13:16 d5f0dcf654a1d6484ceeb6488e9624\n",
      "-r--r--r--   1 root root  646K Nov 19 13:14 db281723d0ef2e015298b6a09cbb07\n",
      "-r--r--r--   1 root root  1.3M Nov 19 13:16 dbe7ae3bab2f0622901f26a69ff224\n",
      "-r--r--r--   1 root root  669K Nov 19 13:15 de3dc81a070e1db9327363aafc381a\n",
      "-r--r--r--   1 root root  387K Nov 19 13:16 de4b9ba7b5b11766f37143bdf301fd\n",
      "-r--r--r--   1 root root  465K Nov 19 13:16 e0672b6e602eaeb1e65a4730c38b23\n",
      "-r--r--r--   1 root root  1.3M Nov 19 13:15 e096a6675e659e839054683d83f813\n",
      "-r--r--r--   1 root root  954K Nov 19 13:15 e1a10fdf216e749249d20d8fd3a0a4\n",
      "-r--r--r--   1 root root  459K Nov 19 13:14 e5c6d088825832a9603c3b2118a8bd\n",
      "-r--r--r--   1 root root  237K Nov 19 13:15 e7bb2be3280670962ae64a88701700\n",
      "-r--r--r--   1 root root  148K Nov 19 13:15 e89d205e43df2e6a7271d437cb83e0\n",
      "-r--r--r--   1 root root  898K Nov 19 13:17 ed3ea9ea272d50197d35d5f427ace6\n",
      "-r--r--r--   1 root root  479K Nov 19 13:16 f2536c0e283c048f04ae4fabf8830a\n",
      "-r--r--r--   1 root root  459K Nov 19 13:16 f4bb73c6a43ca96e1385c70d33004c\n",
      "-r--r--r--   1 root root  638K Nov 19 13:15 f70af41a11bf22318a2637a920cb75\n",
      "-r--r--r--   1 root root  249K Nov 19 13:17 fa54945306a51d4ad1db7a4c26d2f7\n",
      "-r--r--r--   1 root root  627K Nov 19 13:15 fb6d3045f58de5d2821febddbbd8a5\n",
      "-r--r--r--   1 root root  301K Nov 19 13:17 fb8d95ff80f566025f2077a92ebb45\n",
      "-r--r--r--   1 root root  649K Nov 19 13:16 fc9ea48c9bf8f2712fd7b5262bf4d4\n",
      "-r--r--r--   1 root root  133K Nov 19 13:15 fcfa6d3eebe47b2a0ad0e9ab3cfc2e\n",
      "-r--r--r--   1 root root  341K Nov 19 13:16 ff199fd3d416e2ea936f28d72bae7e\n"
     ]
    }
   ],
   "source": [
    "%%bash\n",
    "cd ~/sipecam-models/\n",
    "ls -lha .dvc/cache/[0-1][0-1]"
   ]
  }
 ],
 "metadata": {
  "kernelspec": {
   "display_name": "Python 3 (ipykernel)",
   "language": "python",
   "name": "python3"
  },
  "language_info": {
   "codemirror_mode": {
    "name": "ipython",
    "version": 3
   },
   "file_extension": ".py",
   "mimetype": "text/x-python",
   "name": "python",
   "nbconvert_exporter": "python",
   "pygments_lexer": "ipython3",
   "version": "3.8.10"
  }
 },
 "nbformat": 4,
 "nbformat_minor": 4
}
