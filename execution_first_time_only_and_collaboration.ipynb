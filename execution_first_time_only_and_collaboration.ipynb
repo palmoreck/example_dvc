{
 "cells": [
  {
   "cell_type": "markdown",
   "id": "c8211689-4145-4cd6-a7c2-a433f8e47698",
   "metadata": {},
   "source": [
    "This notebook was executed in http://sipecamdata.conabio.gob.mx:8888/lab? (must be connected to VPN). But you can execute the cells locally using:\n",
    "\n",
    "```\n",
    "docker run -d --rm --name jupyterlab_dummy -p 8888:8888 palmoreck/jupyterlab_optimizacion:3.1.0\n",
    "```\n",
    "\n",
    "and it's using: https://github.com/palmoreck/example_dvc repo"
   ]
  },
  {
   "cell_type": "markdown",
   "id": "75d0d705-c9d6-42c8-bea1-1d49c7d0465a",
   "metadata": {},
   "source": [
    "# Install `dvc`"
   ]
  },
  {
   "cell_type": "code",
   "execution_count": 1,
   "id": "bb2d05be-8f7a-421c-a993-233825e2ac4a",
   "metadata": {},
   "outputs": [
    {
     "name": "stdout",
     "output_type": "stream",
     "text": [
      "\u001b[33m  WARNING: The script normalizer is installed in '/home/myuser/.local/bin' which is not on PATH.\n",
      "  Consider adding this directory to PATH or, if you prefer to suppress this warning, use --no-warn-script-location.\u001b[0m\n",
      "\u001b[33m  WARNING: The script slugify is installed in '/home/myuser/.local/bin' which is not on PATH.\n",
      "  Consider adding this directory to PATH or, if you prefer to suppress this warning, use --no-warn-script-location.\u001b[0m\n",
      "\u001b[33m  WARNING: The scripts futurize and pasteurize are installed in '/home/myuser/.local/bin' which is not on PATH.\n",
      "  Consider adding this directory to PATH or, if you prefer to suppress this warning, use --no-warn-script-location.\u001b[0m\n",
      "\u001b[33m  WARNING: The script ftfy is installed in '/home/myuser/.local/bin' which is not on PATH.\n",
      "  Consider adding this directory to PATH or, if you prefer to suppress this warning, use --no-warn-script-location.\u001b[0m\n",
      "\u001b[33m  WARNING: The script cmark is installed in '/home/myuser/.local/bin' which is not on PATH.\n",
      "  Consider adding this directory to PATH or, if you prefer to suppress this warning, use --no-warn-script-location.\u001b[0m\n",
      "\u001b[33m  WARNING: The script tqdm is installed in '/home/myuser/.local/bin' which is not on PATH.\n",
      "  Consider adding this directory to PATH or, if you prefer to suppress this warning, use --no-warn-script-location.\u001b[0m\n",
      "\u001b[33m  WARNING: The script tabulate is installed in '/home/myuser/.local/bin' which is not on PATH.\n",
      "  Consider adding this directory to PATH or, if you prefer to suppress this warning, use --no-warn-script-location.\u001b[0m\n",
      "\u001b[33m  WARNING: The script shtab is installed in '/home/myuser/.local/bin' which is not on PATH.\n",
      "  Consider adding this directory to PATH or, if you prefer to suppress this warning, use --no-warn-script-location.\u001b[0m\n",
      "\u001b[33m  WARNING: The script shortuuid is installed in '/home/myuser/.local/bin' which is not on PATH.\n",
      "  Consider adding this directory to PATH or, if you prefer to suppress this warning, use --no-warn-script-location.\u001b[0m\n",
      "\u001b[33m  WARNING: The script dulwich is installed in '/home/myuser/.local/bin' which is not on PATH.\n",
      "  Consider adding this directory to PATH or, if you prefer to suppress this warning, use --no-warn-script-location.\u001b[0m\n",
      "\u001b[33m  WARNING: The script distro is installed in '/home/myuser/.local/bin' which is not on PATH.\n",
      "  Consider adding this directory to PATH or, if you prefer to suppress this warning, use --no-warn-script-location.\u001b[0m\n",
      "\u001b[33m  WARNING: The script dvc is installed in '/home/myuser/.local/bin' which is not on PATH.\n",
      "  Consider adding this directory to PATH or, if you prefer to suppress this warning, use --no-warn-script-location.\u001b[0m\n",
      "\u001b[33mWARNING: You are using pip version 21.2.4; however, version 21.3.1 is available.\n",
      "You should consider upgrading via the '/usr/bin/python3 -m pip install --upgrade pip' command.\u001b[0m\n"
     ]
    }
   ],
   "source": [
    "!pip install -q dvc"
   ]
  },
  {
   "cell_type": "markdown",
   "id": "9db2e40c-0926-4dcd-b597-3478990cedbe",
   "metadata": {},
   "source": [
    "# Clone repo"
   ]
  },
  {
   "cell_type": "code",
   "execution_count": 2,
   "id": "1bbb9ad5-8e0a-413b-adf9-ea84668a0136",
   "metadata": {},
   "outputs": [
    {
     "name": "stderr",
     "output_type": "stream",
     "text": [
      "Cloning into 'example_dvc'...\n"
     ]
    }
   ],
   "source": [
    "%%bash\n",
    "cd ~\n",
    "git clone https://github.com/palmoreck/example_dvc.git"
   ]
  },
  {
   "cell_type": "markdown",
   "id": "b8d7353f-e78e-4875-85a4-106f84edc3d1",
   "metadata": {},
   "source": [
    "# `dvc init`"
   ]
  },
  {
   "cell_type": "code",
   "execution_count": 7,
   "id": "233b3531-8214-478d-8246-cf44ba2fedeb",
   "metadata": {},
   "outputs": [
    {
     "name": "stdout",
     "output_type": "stream",
     "text": [
      "Initialized DVC repository.\n",
      "\n",
      "You can now commit the changes to git.\n",
      "\n",
      "+---------------------------------------------------------------------+\n",
      "|                                                                     |\n",
      "|        DVC has enabled anonymous aggregate usage analytics.         |\n",
      "|     Read the analytics documentation (and how to opt-out) here:     |\n",
      "|             <https://dvc.org/doc/user-guide/analytics>              |\n",
      "|                                                                     |\n",
      "+---------------------------------------------------------------------+\n",
      "\n",
      "What's next?\n",
      "------------\n",
      "- Check out the documentation: <https://dvc.org/doc>\n",
      "- Get help and share ideas: <https://dvc.org/chat>\n",
      "- Star us on GitHub: <https://github.com/iterative/dvc>\n"
     ]
    }
   ],
   "source": [
    "%%bash\n",
    "cd ~/example_dvc\n",
    "path_dvc=/home/myuser/.local/bin/\n",
    "$path_dvc/dvc init"
   ]
  },
  {
   "cell_type": "markdown",
   "id": "b248f258-34d2-4ace-9b15-58cc5f5a192d",
   "metadata": {},
   "source": [
    "# Example data"
   ]
  },
  {
   "cell_type": "markdown",
   "id": "f843f0f6-e3ba-48c0-9e4c-764b9b8325e9",
   "metadata": {},
   "source": [
    "Get data"
   ]
  },
  {
   "cell_type": "code",
   "execution_count": 9,
   "id": "5654b660-9f63-4896-876f-7da07dfcc9cd",
   "metadata": {},
   "outputs": [
    {
     "name": "stderr",
     "output_type": "stream",
     "text": [
      "--2021-11-12 09:53:38--  https://raw.githubusercontent.com/palmoreck/minikube_kubeflow_kale_examples/main/reference_notebooks/kale//train_titanic.csv\n",
      "Resolving raw.githubusercontent.com (raw.githubusercontent.com)... 185.199.109.133, 185.199.111.133, 185.199.110.133, ...\n",
      "Connecting to raw.githubusercontent.com (raw.githubusercontent.com)|185.199.109.133|:443... connected.\n",
      "HTTP request sent, awaiting response... 301 Moved Permanently\n",
      "Location: /palmoreck/minikube_kubeflow_kale_examples/main/reference_notebooks/kale/train_titanic.csv [following]\n",
      "--2021-11-12 09:53:38--  https://raw.githubusercontent.com/palmoreck/minikube_kubeflow_kale_examples/main/reference_notebooks/kale/train_titanic.csv\n",
      "Reusing existing connection to raw.githubusercontent.com:443.\n",
      "HTTP request sent, awaiting response... 200 OK\n",
      "Length: 61194 (60K) [text/plain]\n",
      "Saving to: ‘train_titanic.csv’\n",
      "\n",
      "     0K .......... .......... .......... .......... .......... 83% 1.26M 0s\n",
      "    50K .........                                             100% 3.64M=0.04s\n",
      "\n",
      "2021-11-12 09:53:38 (1.41 MB/s) - ‘train_titanic.csv’ saved [61194/61194]\n",
      "\n",
      "--2021-11-12 09:53:38--  https://raw.githubusercontent.com/palmoreck/minikube_kubeflow_kale_examples/main/reference_notebooks/kale//test_titanic.csv\n",
      "Resolving raw.githubusercontent.com (raw.githubusercontent.com)... 185.199.111.133, 185.199.110.133, 185.199.108.133, ...\n",
      "Connecting to raw.githubusercontent.com (raw.githubusercontent.com)|185.199.111.133|:443... connected.\n",
      "HTTP request sent, awaiting response... 301 Moved Permanently\n",
      "Location: /palmoreck/minikube_kubeflow_kale_examples/main/reference_notebooks/kale/test_titanic.csv [following]\n",
      "--2021-11-12 09:53:39--  https://raw.githubusercontent.com/palmoreck/minikube_kubeflow_kale_examples/main/reference_notebooks/kale/test_titanic.csv\n",
      "Reusing existing connection to raw.githubusercontent.com:443.\n",
      "HTTP request sent, awaiting response... 200 OK\n",
      "Length: 28629 (28K) [text/plain]\n",
      "Saving to: ‘test_titanic.csv’\n",
      "\n",
      "     0K .......... .......... .......                         100% 2.95M=0.009s\n",
      "\n",
      "2021-11-12 09:53:39 (2.95 MB/s) - ‘test_titanic.csv’ saved [28629/28629]\n",
      "\n"
     ]
    }
   ],
   "source": [
    "%%bash\n",
    "cd ~/example_dvc\n",
    "url_data=https://raw.githubusercontent.com/palmoreck/minikube_kubeflow_kale_examples/main/reference_notebooks/kale/\n",
    "wget $url_data/train_titanic.csv\n",
    "wget $url_data/test_titanic.csv"
   ]
  },
  {
   "cell_type": "markdown",
   "id": "8e496841-cab3-4b73-b43d-766e30651cf8",
   "metadata": {},
   "source": [
    "# `dvc add`"
   ]
  },
  {
   "cell_type": "code",
   "execution_count": 10,
   "id": "86dd65d3-1e12-4b78-9f4b-1a974b7c8fe8",
   "metadata": {},
   "outputs": [
    {
     "name": "stdout",
     "output_type": "stream",
     "text": [
      "\n",
      "To track the changes with git, run:\n",
      "\n",
      "\tgit add train_titanic.csv.dvc .gitignore\n",
      "\n",
      "To track the changes with git, run:\n",
      "\n",
      "\tgit add .gitignore test_titanic.csv.dvc\n"
     ]
    },
    {
     "name": "stderr",
     "output_type": "stream",
     "text": [
      "\n",
      "\n"
     ]
    }
   ],
   "source": [
    "%%bash\n",
    "cd ~/example_dvc\n",
    "path_dvc=/home/myuser/.local/bin/\n",
    "$path_dvc/dvc add train_titanic.csv\n",
    "$path_dvc/dvc add test_titanic.csv"
   ]
  },
  {
   "cell_type": "markdown",
   "id": "920bc2c1-595b-4f04-ac0c-b495f5370021",
   "metadata": {},
   "source": [
    "# Track files and commit"
   ]
  },
  {
   "cell_type": "markdown",
   "id": "6a67a233-9a86-4bd3-b3b5-ad3b7e08f8b9",
   "metadata": {},
   "source": [
    "First configure `git` with your mail, name, etc in bash not in notebook."
   ]
  },
  {
   "cell_type": "code",
   "execution_count": 12,
   "id": "25d84eac-1615-4718-9f28-f5a97c2ee7ad",
   "metadata": {},
   "outputs": [
    {
     "name": "stdout",
     "output_type": "stream",
     "text": [
      "[main cae2de9] Add dvc files for data\n",
      " 12 files changed, 525 insertions(+)\n",
      " create mode 100644 .dvc/.gitignore\n",
      " create mode 100644 .dvc/config\n",
      " create mode 100644 .dvc/plots/confusion.json\n",
      " create mode 100644 .dvc/plots/confusion_normalized.json\n",
      " create mode 100644 .dvc/plots/linear.json\n",
      " create mode 100644 .dvc/plots/scatter.json\n",
      " create mode 100644 .dvc/plots/simple.json\n",
      " create mode 100644 .dvc/plots/smooth.json\n",
      " create mode 100644 .dvcignore\n",
      " create mode 100644 .gitignore\n",
      " create mode 100644 test_titanic.csv.dvc\n",
      " create mode 100644 train_titanic.csv.dvc\n"
     ]
    }
   ],
   "source": [
    "%%bash\n",
    "cd ~/example_dvc\n",
    "git add .gitignore train_titanic.csv.dvc\n",
    "git add test_titanic.csv.dvc\n",
    "git commit -m \"Add dvc files for data\""
   ]
  },
  {
   "cell_type": "markdown",
   "id": "94eaed00-1799-4728-a800-d588184827b3",
   "metadata": {},
   "source": [
    "# `dvc remote add`"
   ]
  },
  {
   "cell_type": "markdown",
   "id": "95696281-d240-4fba-b19e-313a8bf1d140",
   "metadata": {},
   "source": [
    "Add local remote:"
   ]
  },
  {
   "cell_type": "code",
   "execution_count": 14,
   "id": "6e6519de-fcd1-4ccb-b4d8-24c7f0900772",
   "metadata": {},
   "outputs": [],
   "source": [
    "%%bash\n",
    "cd ~/example_dvc\n",
    "mkdir -p ~/dvc_storage\n",
    "path_dvc=/home/myuser/.local/bin/\n",
    "$path_dvc/dvc remote add local ~/dvc_storage"
   ]
  },
  {
   "cell_type": "markdown",
   "id": "978a8abb-5edb-451b-82fd-3b5c2fa98eb9",
   "metadata": {},
   "source": [
    "See list of remote:"
   ]
  },
  {
   "cell_type": "code",
   "execution_count": 15,
   "id": "19cdd247-fbd6-4b8d-bb9c-e722b424906f",
   "metadata": {},
   "outputs": [
    {
     "name": "stdout",
     "output_type": "stream",
     "text": [
      "local\t/home/myuser/dvc_storage\n"
     ]
    }
   ],
   "source": [
    "%%bash\n",
    "cd ~/example_dvc\n",
    "path_dvc=/home/myuser/.local/bin/\n",
    "$path_dvc/dvc remote list"
   ]
  },
  {
   "cell_type": "markdown",
   "id": "bef06d22-e043-4750-b305-9970c785848e",
   "metadata": {},
   "source": [
    "See config:"
   ]
  },
  {
   "cell_type": "code",
   "execution_count": 16,
   "id": "9e49bea8-2d1b-4b4e-ad26-b8a0d982e79b",
   "metadata": {},
   "outputs": [
    {
     "name": "stdout",
     "output_type": "stream",
     "text": [
      "['remote \"local\"']\n",
      "    url = /home/myuser/dvc_storage\n"
     ]
    }
   ],
   "source": [
    "%%bash\n",
    "cd ~/example_dvc\n",
    "cat .dvc/config "
   ]
  },
  {
   "cell_type": "markdown",
   "id": "d2d33478-0bc4-42a3-80a5-617f79a78a4b",
   "metadata": {},
   "source": [
    "Commit:"
   ]
  },
  {
   "cell_type": "code",
   "execution_count": 17,
   "id": "8285fde6-ff77-4411-a20a-f11f624bffe4",
   "metadata": {},
   "outputs": [
    {
     "name": "stdout",
     "output_type": "stream",
     "text": [
      "[main aa43094] Configure local remote\n",
      " 1 file changed, 2 insertions(+)\n"
     ]
    }
   ],
   "source": [
    "%%bash\n",
    "cd ~/example_dvc\n",
    "git commit .dvc/config -m \"Configure local remote\""
   ]
  },
  {
   "cell_type": "markdown",
   "id": "c6a1d49a-07a9-40bf-8df0-06ae452e5c96",
   "metadata": {},
   "source": [
    "# `dvc push`"
   ]
  },
  {
   "cell_type": "markdown",
   "id": "947bdf1c-5315-436b-9f3d-cdf5786f9ded",
   "metadata": {},
   "source": [
    "Check dir `~/dvc_storage` is emtpy before `dvc push`"
   ]
  },
  {
   "cell_type": "code",
   "execution_count": 18,
   "id": "c253c0f5-6db0-48d9-a049-6b97f0c80f87",
   "metadata": {},
   "outputs": [
    {
     "name": "stdout",
     "output_type": "stream",
     "text": [
      "total 0\n"
     ]
    }
   ],
   "source": [
    "%%bash\n",
    "ls -lh ~/dvc_storage"
   ]
  },
  {
   "cell_type": "markdown",
   "id": "bcf92628-290a-4743-96c8-050be5f35aaa",
   "metadata": {},
   "source": [
    "Using `dvc push` copy the data locally to the remote storage we set up earlier:"
   ]
  },
  {
   "cell_type": "code",
   "execution_count": 19,
   "id": "6efc69f1-6c2b-4d7d-81a3-ef727b2e18dd",
   "metadata": {},
   "outputs": [
    {
     "name": "stdout",
     "output_type": "stream",
     "text": [
      "2 files pushed\n"
     ]
    }
   ],
   "source": [
    "%%bash\n",
    "cd ~/example_dvc\n",
    "path_dvc=/home/myuser/.local/bin/\n",
    "$path_dvc/dvc push -r local"
   ]
  },
  {
   "cell_type": "markdown",
   "id": "e04a3f6a-1411-423f-8646-a91c55b49e0e",
   "metadata": {},
   "source": [
    "Check:"
   ]
  },
  {
   "cell_type": "code",
   "execution_count": 20,
   "id": "e1a9caac-9e23-40d8-ab25-bcf67a9f36bf",
   "metadata": {},
   "outputs": [
    {
     "name": "stdout",
     "output_type": "stream",
     "text": [
      "total 8.0K\n",
      "drwxr-xr-x 2 myuser myuser 4.0K Nov 12 10:01 02\n",
      "drwxr-xr-x 2 myuser myuser 4.0K Nov 12 10:01 61\n"
     ]
    }
   ],
   "source": [
    "%%bash\n",
    "ls -lh ~/dvc_storage"
   ]
  },
  {
   "cell_type": "markdown",
   "id": "1f68e313-27f1-4f72-bb64-34200d41236b",
   "metadata": {},
   "source": [
    "# Inside `~/example_dvc` execute `git push` in bash not in notebook."
   ]
  },
  {
   "cell_type": "markdown",
   "id": "a66fa335-a2fe-4596-b9f7-7cabd448a539",
   "metadata": {},
   "source": [
    "Check in repo that there's no .csv files"
   ]
  },
  {
   "cell_type": "markdown",
   "id": "328ba371-4ab8-4cc3-9dd5-0d78f973ba44",
   "metadata": {
    "tags": []
   },
   "source": [
    "# These csv files have next number of rows:"
   ]
  },
  {
   "cell_type": "code",
   "execution_count": 25,
   "id": "7b8c3676-fb26-4866-92ad-b82efadeb24d",
   "metadata": {},
   "outputs": [],
   "source": [
    "import pandas as pd\n",
    "import os"
   ]
  },
  {
   "cell_type": "code",
   "execution_count": 32,
   "id": "75659a0b-1eca-4fff-b1be-25d9416ecbd0",
   "metadata": {},
   "outputs": [],
   "source": [
    "url_csv = os.path.join(os.path.expanduser(\"~\"),\"example_dvc\")\n",
    "filename_train = \"train_titanic.csv\"\n",
    "filename_test = \"test_titanic.csv\"\n",
    "train_df = pd.read_csv(os.path.join(url_csv, filename_train))\n",
    "test_df  = pd.read_csv(os.path.join(url_csv, filename_test))"
   ]
  },
  {
   "cell_type": "code",
   "execution_count": 33,
   "id": "b78701d3-6298-4735-96b9-825bdc8bfca0",
   "metadata": {},
   "outputs": [
    {
     "name": "stdout",
     "output_type": "stream",
     "text": [
      "<class 'pandas.core.frame.DataFrame'>\n",
      "RangeIndex: 891 entries, 0 to 890\n",
      "Data columns (total 12 columns):\n",
      " #   Column       Non-Null Count  Dtype  \n",
      "---  ------       --------------  -----  \n",
      " 0   PassengerId  891 non-null    int64  \n",
      " 1   Survived     891 non-null    int64  \n",
      " 2   Pclass       891 non-null    int64  \n",
      " 3   Name         891 non-null    object \n",
      " 4   Sex          891 non-null    object \n",
      " 5   Age          714 non-null    float64\n",
      " 6   SibSp        891 non-null    int64  \n",
      " 7   Parch        891 non-null    int64  \n",
      " 8   Ticket       891 non-null    object \n",
      " 9   Fare         891 non-null    float64\n",
      " 10  Cabin        204 non-null    object \n",
      " 11  Embarked     889 non-null    object \n",
      "dtypes: float64(2), int64(5), object(5)\n",
      "memory usage: 83.7+ KB\n"
     ]
    }
   ],
   "source": [
    "train_df.info()"
   ]
  },
  {
   "cell_type": "code",
   "execution_count": 34,
   "id": "b3e3f4e7-67f4-45a9-94dc-1827ce5a6b73",
   "metadata": {},
   "outputs": [
    {
     "name": "stdout",
     "output_type": "stream",
     "text": [
      "<class 'pandas.core.frame.DataFrame'>\n",
      "RangeIndex: 418 entries, 0 to 417\n",
      "Data columns (total 11 columns):\n",
      " #   Column       Non-Null Count  Dtype  \n",
      "---  ------       --------------  -----  \n",
      " 0   PassengerId  418 non-null    int64  \n",
      " 1   Pclass       418 non-null    int64  \n",
      " 2   Name         418 non-null    object \n",
      " 3   Sex          418 non-null    object \n",
      " 4   Age          332 non-null    float64\n",
      " 5   SibSp        418 non-null    int64  \n",
      " 6   Parch        418 non-null    int64  \n",
      " 7   Ticket       418 non-null    object \n",
      " 8   Fare         417 non-null    float64\n",
      " 9   Cabin        91 non-null     object \n",
      " 10  Embarked     418 non-null    object \n",
      "dtypes: float64(2), int64(4), object(5)\n",
      "memory usage: 36.0+ KB\n"
     ]
    }
   ],
   "source": [
    "test_df.info()"
   ]
  },
  {
   "cell_type": "markdown",
   "id": "ebb49850-45c0-4ec8-8087-88678d0fabfb",
   "metadata": {},
   "source": [
    "# Making changes to data"
   ]
  },
  {
   "cell_type": "markdown",
   "id": "e77a73f4-3a08-4e73-a4c0-ead137cbe26d",
   "metadata": {},
   "source": [
    "Suppose you change the data"
   ]
  },
  {
   "cell_type": "code",
   "execution_count": 40,
   "id": "b9420be2-f396-4012-bd35-f0a918dca2ad",
   "metadata": {},
   "outputs": [],
   "source": [
    "%%bash\n",
    "head -n 400 ~/example_dvc/train_titanic.csv > ~/example_dvc/train_titanic.csv_2\n",
    "mv ~/example_dvc/train_titanic.csv_2 ~/example_dvc/train_titanic.csv\n",
    "head -n 400 ~/example_dvc/test_titanic.csv >  ~/example_dvc/test_titanic.csv_2\n",
    "mv ~/example_dvc/test_titanic.csv_2 ~/example_dvc/test_titanic.csv"
   ]
  },
  {
   "cell_type": "markdown",
   "id": "675b9d32-f051-4ae7-8516-66a8d5e7dffe",
   "metadata": {},
   "source": [
    "Execute `dvc_add` then `git commit` and `dvc push`"
   ]
  },
  {
   "cell_type": "code",
   "execution_count": 41,
   "id": "4dcedd7d-4b83-4a84-9593-616dd65b5a1c",
   "metadata": {},
   "outputs": [
    {
     "name": "stdout",
     "output_type": "stream",
     "text": [
      "\n",
      "To track the changes with git, run:\n",
      "\n",
      "\tgit add train_titanic.csv.dvc\n",
      "\n",
      "To track the changes with git, run:\n",
      "\n",
      "\tgit add test_titanic.csv.dvc\n"
     ]
    },
    {
     "name": "stderr",
     "output_type": "stream",
     "text": [
      "\n",
      "\n"
     ]
    }
   ],
   "source": [
    "%%bash\n",
    "cd ~/example_dvc\n",
    "path_dvc=/home/myuser/.local/bin/\n",
    "$path_dvc/dvc add train_titanic.csv\n",
    "$path_dvc/dvc add test_titanic.csv"
   ]
  },
  {
   "cell_type": "code",
   "execution_count": 42,
   "id": "99809024-f14b-4c22-bfce-2eb724046779",
   "metadata": {},
   "outputs": [
    {
     "name": "stdout",
     "output_type": "stream",
     "text": [
      "[main f93871e] data update\n",
      " 2 files changed, 4 insertions(+), 4 deletions(-)\n"
     ]
    }
   ],
   "source": [
    "%%bash\n",
    "cd ~/example_dvc\n",
    "git commit -m \"data update\" -i *.dvc"
   ]
  },
  {
   "cell_type": "code",
   "execution_count": 44,
   "id": "35f9efbf-18e3-42b0-a5de-1e4496dbdfaf",
   "metadata": {},
   "outputs": [
    {
     "name": "stdout",
     "output_type": "stream",
     "text": [
      "2 files pushed\n"
     ]
    }
   ],
   "source": [
    "%%bash\n",
    "cd ~/example_dvc\n",
    "path_dvc=/home/myuser/.local/bin/\n",
    "$path_dvc/dvc push -r local"
   ]
  },
  {
   "cell_type": "markdown",
   "id": "3b09850b-65dd-4258-96a0-78ba07e48f9b",
   "metadata": {},
   "source": [
    "Check:"
   ]
  },
  {
   "cell_type": "code",
   "execution_count": 45,
   "id": "0476d8c3-fda6-4827-b68b-d846d43a353f",
   "metadata": {},
   "outputs": [
    {
     "name": "stdout",
     "output_type": "stream",
     "text": [
      "/home/myuser/dvc_storage/02:\n",
      "total 28K\n",
      "-r--r--r-- 1 myuser myuser 28K Nov 12 10:01 9c9cd22461f6dbe8d9ab01def965c6\n",
      "\n",
      "/home/myuser/dvc_storage/61:\n",
      "total 60K\n",
      "-r--r--r-- 1 myuser myuser 60K Nov 12 10:01 fdd54abdbf6a85b778e937122e1194\n",
      "\n",
      "/home/myuser/dvc_storage/6f:\n",
      "total 28K\n",
      "-r--r--r-- 1 myuser myuser 27K Nov 12 10:18 239b05fcf9ef02f4c29999e4ef8c65\n",
      "\n",
      "/home/myuser/dvc_storage/eb:\n",
      "total 28K\n",
      "-r--r--r-- 1 myuser myuser 27K Nov 12 10:18 948a8bd52f721c6ab4519cd9aac07c\n"
     ]
    }
   ],
   "source": [
    "%%bash\n",
    "ls -lh ~/dvc_storage/*"
   ]
  },
  {
   "cell_type": "markdown",
   "id": "35e992e3-7efb-4b8e-a7b2-7735a72c7351",
   "metadata": {
    "tags": []
   },
   "source": [
    "# Now these csv files have next number of rows:"
   ]
  },
  {
   "cell_type": "code",
   "execution_count": 46,
   "id": "2912eafd-ff7c-4086-81c3-18d5c505834b",
   "metadata": {},
   "outputs": [],
   "source": [
    "train_df = pd.read_csv(os.path.join(url_csv, filename_train))\n",
    "test_df  = pd.read_csv(os.path.join(url_csv, filename_test))"
   ]
  },
  {
   "cell_type": "code",
   "execution_count": 47,
   "id": "910d0de2-f44d-433a-81f3-0eca07a4c3c2",
   "metadata": {},
   "outputs": [
    {
     "name": "stdout",
     "output_type": "stream",
     "text": [
      "<class 'pandas.core.frame.DataFrame'>\n",
      "RangeIndex: 399 entries, 0 to 398\n",
      "Data columns (total 12 columns):\n",
      " #   Column       Non-Null Count  Dtype  \n",
      "---  ------       --------------  -----  \n",
      " 0   PassengerId  399 non-null    int64  \n",
      " 1   Survived     399 non-null    int64  \n",
      " 2   Pclass       399 non-null    int64  \n",
      " 3   Name         399 non-null    object \n",
      " 4   Sex          399 non-null    object \n",
      " 5   Age          321 non-null    float64\n",
      " 6   SibSp        399 non-null    int64  \n",
      " 7   Parch        399 non-null    int64  \n",
      " 8   Ticket       399 non-null    object \n",
      " 9   Fare         399 non-null    float64\n",
      " 10  Cabin        91 non-null     object \n",
      " 11  Embarked     398 non-null    object \n",
      "dtypes: float64(2), int64(5), object(5)\n",
      "memory usage: 37.5+ KB\n"
     ]
    }
   ],
   "source": [
    "train_df.info()"
   ]
  },
  {
   "cell_type": "code",
   "execution_count": 48,
   "id": "258b1c35-f4fe-4ef4-a528-a9597e715d46",
   "metadata": {},
   "outputs": [
    {
     "name": "stdout",
     "output_type": "stream",
     "text": [
      "<class 'pandas.core.frame.DataFrame'>\n",
      "RangeIndex: 399 entries, 0 to 398\n",
      "Data columns (total 11 columns):\n",
      " #   Column       Non-Null Count  Dtype  \n",
      "---  ------       --------------  -----  \n",
      " 0   PassengerId  399 non-null    int64  \n",
      " 1   Pclass       399 non-null    int64  \n",
      " 2   Name         399 non-null    object \n",
      " 3   Sex          399 non-null    object \n",
      " 4   Age          318 non-null    float64\n",
      " 5   SibSp        399 non-null    int64  \n",
      " 6   Parch        399 non-null    int64  \n",
      " 7   Ticket       399 non-null    object \n",
      " 8   Fare         398 non-null    float64\n",
      " 9   Cabin        85 non-null     object \n",
      " 10  Embarked     399 non-null    object \n",
      "dtypes: float64(2), int64(4), object(5)\n",
      "memory usage: 34.4+ KB\n"
     ]
    }
   ],
   "source": [
    "test_df.info()"
   ]
  },
  {
   "cell_type": "markdown",
   "id": "45597d9b-5fbc-46c3-8174-70c14e4aa728",
   "metadata": {},
   "source": [
    "# Inside `~/example_dvc` execute `git push` in bash not in notebook."
   ]
  },
  {
   "cell_type": "markdown",
   "id": "3b2582c0-e362-494c-a1aa-f7390a5caf94",
   "metadata": {},
   "source": [
    "# If these csv updates weren't good (because some evaluations of models using these updates) then go back to previous version of data before the update with `dvc checkout`"
   ]
  },
  {
   "cell_type": "code",
   "execution_count": 50,
   "id": "46afe3dd-2879-4bc3-85c4-f5f52842d963",
   "metadata": {},
   "outputs": [
    {
     "name": "stderr",
     "output_type": "stream",
     "text": [
      "Updated 1 path from 67a9f42\n"
     ]
    }
   ],
   "source": [
    "%%bash\n",
    "cd ~/example_dvc\n",
    "git checkout aa43094f8f9e40c5f46e11d8c131ed83663553bf train_titanic.csv.dvc"
   ]
  },
  {
   "cell_type": "code",
   "execution_count": 51,
   "id": "32ef5700-0d63-4903-9f70-cdc30bd5350f",
   "metadata": {},
   "outputs": [
    {
     "name": "stderr",
     "output_type": "stream",
     "text": [
      "Updated 1 path from 67a9f42\n"
     ]
    }
   ],
   "source": [
    "%%bash\n",
    "cd ~/example_dvc\n",
    "git checkout aa43094f8f9e40c5f46e11d8c131ed83663553bf test_titanic.csv.dvc"
   ]
  },
  {
   "cell_type": "code",
   "execution_count": 52,
   "id": "34761193-1005-40c4-9cc9-3211127e9942",
   "metadata": {},
   "outputs": [
    {
     "name": "stdout",
     "output_type": "stream",
     "text": [
      "M       test_titanic.csv\n",
      "M       train_titanic.csv\n"
     ]
    }
   ],
   "source": [
    "%%bash\n",
    "cd ~/example_dvc\n",
    "path_dvc=/home/myuser/.local/bin/\n",
    "$path_dvc/dvc checkout"
   ]
  },
  {
   "cell_type": "markdown",
   "id": "1984044e-dfd1-4941-ab25-f717d0f9e71e",
   "metadata": {},
   "source": [
    "Check number of rows"
   ]
  },
  {
   "cell_type": "code",
   "execution_count": 53,
   "id": "393ca0ce-420a-49bf-b243-69ef57b0bbf3",
   "metadata": {},
   "outputs": [],
   "source": [
    "train_df = pd.read_csv(os.path.join(url_csv, filename_train))\n",
    "test_df  = pd.read_csv(os.path.join(url_csv, filename_test))"
   ]
  },
  {
   "cell_type": "code",
   "execution_count": 54,
   "id": "8ee50213-7f2e-4f03-9e8e-5860ef715570",
   "metadata": {},
   "outputs": [
    {
     "name": "stdout",
     "output_type": "stream",
     "text": [
      "<class 'pandas.core.frame.DataFrame'>\n",
      "RangeIndex: 891 entries, 0 to 890\n",
      "Data columns (total 12 columns):\n",
      " #   Column       Non-Null Count  Dtype  \n",
      "---  ------       --------------  -----  \n",
      " 0   PassengerId  891 non-null    int64  \n",
      " 1   Survived     891 non-null    int64  \n",
      " 2   Pclass       891 non-null    int64  \n",
      " 3   Name         891 non-null    object \n",
      " 4   Sex          891 non-null    object \n",
      " 5   Age          714 non-null    float64\n",
      " 6   SibSp        891 non-null    int64  \n",
      " 7   Parch        891 non-null    int64  \n",
      " 8   Ticket       891 non-null    object \n",
      " 9   Fare         891 non-null    float64\n",
      " 10  Cabin        204 non-null    object \n",
      " 11  Embarked     889 non-null    object \n",
      "dtypes: float64(2), int64(5), object(5)\n",
      "memory usage: 83.7+ KB\n"
     ]
    }
   ],
   "source": [
    "train_df.info()"
   ]
  },
  {
   "cell_type": "code",
   "execution_count": 55,
   "id": "06fee27e-2947-4b23-9407-e24c1aa42ff7",
   "metadata": {},
   "outputs": [
    {
     "name": "stdout",
     "output_type": "stream",
     "text": [
      "<class 'pandas.core.frame.DataFrame'>\n",
      "RangeIndex: 418 entries, 0 to 417\n",
      "Data columns (total 11 columns):\n",
      " #   Column       Non-Null Count  Dtype  \n",
      "---  ------       --------------  -----  \n",
      " 0   PassengerId  418 non-null    int64  \n",
      " 1   Pclass       418 non-null    int64  \n",
      " 2   Name         418 non-null    object \n",
      " 3   Sex          418 non-null    object \n",
      " 4   Age          332 non-null    float64\n",
      " 5   SibSp        418 non-null    int64  \n",
      " 6   Parch        418 non-null    int64  \n",
      " 7   Ticket       418 non-null    object \n",
      " 8   Fare         417 non-null    float64\n",
      " 9   Cabin        91 non-null     object \n",
      " 10  Embarked     418 non-null    object \n",
      "dtypes: float64(2), int64(4), object(5)\n",
      "memory usage: 36.0+ KB\n"
     ]
    }
   ],
   "source": [
    "test_df.info()"
   ]
  },
  {
   "cell_type": "markdown",
   "id": "6c8933be-ae57-4342-aa4b-1e84cb39642b",
   "metadata": {},
   "source": [
    "# Extra: if someone else wants to execute some commands with data (version 1 and 2) then:"
   ]
  },
  {
   "cell_type": "markdown",
   "id": "321a9926-ce3c-491a-b927-5d7f0d1030bb",
   "metadata": {},
   "source": [
    "Connect to server where is located `~/dvc_storage/`, clone repo https://github.com/palmoreck/example_dvc and execute `dvc pull`"
   ]
  },
  {
   "cell_type": "code",
   "execution_count": 56,
   "id": "a4569288-f0d4-4cd8-b621-1f7f830c096c",
   "metadata": {},
   "outputs": [
    {
     "name": "stderr",
     "output_type": "stream",
     "text": [
      "Cloning into '/home/myuser/new_repo'...\n"
     ]
    }
   ],
   "source": [
    "%%bash\n",
    "cd ~\n",
    "git clone https://github.com/palmoreck/example_dvc.git ~/new_repo/"
   ]
  },
  {
   "cell_type": "code",
   "execution_count": 57,
   "id": "5dee5e43-a67b-40f4-9ef7-d6b9c05896ad",
   "metadata": {},
   "outputs": [
    {
     "name": "stdout",
     "output_type": "stream",
     "text": [
      "A       test_titanic.csv\n",
      "A       train_titanic.csv\n",
      "2 files added and 2 files fetched\n"
     ]
    }
   ],
   "source": [
    "%%bash\n",
    "cd ~/new_repo/\n",
    "path_dvc=/home/myuser/.local/bin/\n",
    "$path_dvc/dvc pull -r local"
   ]
  },
  {
   "cell_type": "code",
   "execution_count": 58,
   "id": "941113a0-8696-4b6f-aa26-a10cf89665de",
   "metadata": {},
   "outputs": [],
   "source": [
    "url_csv = os.path.join(os.path.expanduser(\"~\"),\"new_repo\")\n",
    "filename_train = \"train_titanic.csv\"\n",
    "filename_test = \"test_titanic.csv\""
   ]
  },
  {
   "cell_type": "code",
   "execution_count": 59,
   "id": "3bfa62a9-c6c0-4c50-959b-8f6323b0612d",
   "metadata": {},
   "outputs": [],
   "source": [
    "train_df = pd.read_csv(os.path.join(url_csv, filename_train))\n",
    "test_df  = pd.read_csv(os.path.join(url_csv, filename_test))"
   ]
  },
  {
   "cell_type": "code",
   "execution_count": 60,
   "id": "1d4d977d-2386-4d90-aedd-0d4fadec4a89",
   "metadata": {},
   "outputs": [
    {
     "name": "stdout",
     "output_type": "stream",
     "text": [
      "<class 'pandas.core.frame.DataFrame'>\n",
      "RangeIndex: 399 entries, 0 to 398\n",
      "Data columns (total 12 columns):\n",
      " #   Column       Non-Null Count  Dtype  \n",
      "---  ------       --------------  -----  \n",
      " 0   PassengerId  399 non-null    int64  \n",
      " 1   Survived     399 non-null    int64  \n",
      " 2   Pclass       399 non-null    int64  \n",
      " 3   Name         399 non-null    object \n",
      " 4   Sex          399 non-null    object \n",
      " 5   Age          321 non-null    float64\n",
      " 6   SibSp        399 non-null    int64  \n",
      " 7   Parch        399 non-null    int64  \n",
      " 8   Ticket       399 non-null    object \n",
      " 9   Fare         399 non-null    float64\n",
      " 10  Cabin        91 non-null     object \n",
      " 11  Embarked     398 non-null    object \n",
      "dtypes: float64(2), int64(5), object(5)\n",
      "memory usage: 37.5+ KB\n"
     ]
    }
   ],
   "source": [
    "train_df.info()"
   ]
  },
  {
   "cell_type": "code",
   "execution_count": 61,
   "id": "2c4eab94-0bcd-426f-a059-46bd0d547adc",
   "metadata": {},
   "outputs": [
    {
     "name": "stdout",
     "output_type": "stream",
     "text": [
      "<class 'pandas.core.frame.DataFrame'>\n",
      "RangeIndex: 399 entries, 0 to 398\n",
      "Data columns (total 11 columns):\n",
      " #   Column       Non-Null Count  Dtype  \n",
      "---  ------       --------------  -----  \n",
      " 0   PassengerId  399 non-null    int64  \n",
      " 1   Pclass       399 non-null    int64  \n",
      " 2   Name         399 non-null    object \n",
      " 3   Sex          399 non-null    object \n",
      " 4   Age          318 non-null    float64\n",
      " 5   SibSp        399 non-null    int64  \n",
      " 6   Parch        399 non-null    int64  \n",
      " 7   Ticket       399 non-null    object \n",
      " 8   Fare         398 non-null    float64\n",
      " 9   Cabin        85 non-null     object \n",
      " 10  Embarked     399 non-null    object \n",
      "dtypes: float64(2), int64(4), object(5)\n",
      "memory usage: 34.4+ KB\n"
     ]
    }
   ],
   "source": [
    "test_df.info()"
   ]
  },
  {
   "cell_type": "markdown",
   "id": "c61cc190-2e0a-4082-8453-5b889666f5bf",
   "metadata": {},
   "source": [
    "# Refs\n",
    "\n",
    "\n",
    "https://dvc.org/doc/start\n",
    "\n",
    "https://dvc.org/doc/start/data-and-model-versioning\n",
    "\n",
    "https://dvc.org/doc/command-reference/remote\n",
    "\n",
    "https://dvc.org/doc/start/data-and-model-versioning"
   ]
  },
  {
   "cell_type": "code",
   "execution_count": null,
   "id": "e5fde9fe-e181-4eb3-b744-248363682a9f",
   "metadata": {},
   "outputs": [],
   "source": []
  }
 ],
 "metadata": {
  "kernelspec": {
   "display_name": "Python 3 (ipykernel)",
   "language": "python",
   "name": "python3"
  },
  "language_info": {
   "codemirror_mode": {
    "name": "ipython",
    "version": 3
   },
   "file_extension": ".py",
   "mimetype": "text/x-python",
   "name": "python",
   "nbconvert_exporter": "python",
   "pygments_lexer": "ipython3",
   "version": "3.8.10"
  }
 },
 "nbformat": 4,
 "nbformat_minor": 5
}
